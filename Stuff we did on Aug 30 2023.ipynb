{
 "cells": [
  {
   "cell_type": "code",
   "execution_count": 3,
   "id": "284769bd-ca06-416b-a1d1-a9154662145e",
   "metadata": {},
   "outputs": [],
   "source": [
    "names = 'Christy     \\n\\t Tanner   \\t\\n \\t Dave'.split() # we have a string, and we run the .split() method"
   ]
  },
  {
   "cell_type": "code",
   "execution_count": 4,
   "id": "a77051af-341e-4c2e-a070-96612ab3cf3f",
   "metadata": {},
   "outputs": [
    {
     "data": {
      "text/plain": [
       "['Christy', 'Tanner', 'Dave']"
      ]
     },
     "execution_count": 4,
     "metadata": {},
     "output_type": "execute_result"
    }
   ],
   "source": [
    "names"
   ]
  },
  {
   "cell_type": "code",
   "execution_count": 5,
   "id": "b5251942-01ee-4dc3-935f-28fd45c1135f",
   "metadata": {},
   "outputs": [],
   "source": [
    "names.append('Taylor')"
   ]
  },
  {
   "cell_type": "code",
   "execution_count": 7,
   "id": "7f293ee9-25e7-4455-8f70-ecff4a6d05ee",
   "metadata": {},
   "outputs": [
    {
     "data": {
      "text/plain": [
       "['Christy', 'Tanner', 'Dave', 'Taylor']"
      ]
     },
     "execution_count": 7,
     "metadata": {},
     "output_type": "execute_result"
    }
   ],
   "source": [
    "names"
   ]
  },
  {
   "cell_type": "code",
   "execution_count": 8,
   "id": "17e47fcc-dfef-40c4-b85d-e14db240d7cb",
   "metadata": {},
   "outputs": [],
   "source": [
    "other_names = 'Bruce Clint Sigourney'.split()"
   ]
  },
  {
   "cell_type": "code",
   "execution_count": 9,
   "id": "ba2d2dd9-8f02-497a-a654-a149970a168c",
   "metadata": {},
   "outputs": [
    {
     "data": {
      "text/plain": [
       "['Bruce', 'Clint', 'Sigourney']"
      ]
     },
     "execution_count": 9,
     "metadata": {},
     "output_type": "execute_result"
    }
   ],
   "source": [
    "other_names"
   ]
  },
  {
   "cell_type": "code",
   "execution_count": 11,
   "id": "8cb1709b-31ee-41a1-a917-3681b41eeba7",
   "metadata": {},
   "outputs": [
    {
     "name": "stdout",
     "output_type": "stream",
     "text": [
      "Add Bruce to other list\n",
      "Add Clint to other list\n",
      "Add Sigourney to other list\n"
     ]
    }
   ],
   "source": [
    "for name in other_names:\n",
    "    print('Add', name, 'to other list')\n",
    "    names.append(name)"
   ]
  },
  {
   "cell_type": "code",
   "execution_count": 12,
   "id": "1b4c886f-7f2a-44db-af4f-c0bb01e702fa",
   "metadata": {},
   "outputs": [
    {
     "data": {
      "text/plain": [
       "['Christy', 'Tanner', 'Dave', 'Taylor', 'Bruce', 'Clint', 'Sigourney']"
      ]
     },
     "execution_count": 12,
     "metadata": {},
     "output_type": "execute_result"
    }
   ],
   "source": [
    "names"
   ]
  },
  {
   "cell_type": "code",
   "execution_count": 13,
   "id": "ee823d06-8460-4ba6-b9a1-7524513afa24",
   "metadata": {},
   "outputs": [],
   "source": [
    "names.extend(other_names)"
   ]
  },
  {
   "cell_type": "code",
   "execution_count": 16,
   "id": "537afeb4-0604-4c83-90b9-c5a46b83b657",
   "metadata": {},
   "outputs": [
    {
     "data": {
      "text/plain": [
       "['Christy',\n",
       " 'Tanner',\n",
       " 'Dave',\n",
       " 'Taylor',\n",
       " 'Bruce',\n",
       " 'Clint',\n",
       " 'Sigourney',\n",
       " 'Bruce',\n",
       " 'Clint',\n",
       " 'Sigourney']"
      ]
     },
     "execution_count": 16,
     "metadata": {},
     "output_type": "execute_result"
    }
   ],
   "source": [
    "names"
   ]
  },
  {
   "cell_type": "code",
   "execution_count": 17,
   "id": "7766fc33-4158-4d0b-b653-27f73c67e61f",
   "metadata": {},
   "outputs": [
    {
     "data": {
      "text/plain": [
       "['Christy',\n",
       " 'Tanner',\n",
       " 'Dave',\n",
       " 'Taylor',\n",
       " 'Bruce',\n",
       " 'Clint',\n",
       " 'Sigourney',\n",
       " 'Bruce',\n",
       " 'Clint',\n",
       " 'Sigourney']"
      ]
     },
     "execution_count": 17,
     "metadata": {},
     "output_type": "execute_result"
    }
   ],
   "source": [
    "names"
   ]
  },
  {
   "cell_type": "code",
   "execution_count": 18,
   "id": "182b6ea2-0a7e-41c7-a956-f5338aa3b87c",
   "metadata": {},
   "outputs": [],
   "source": [
    "names.sort() # sort all of the items in the names list IN PLACE"
   ]
  },
  {
   "cell_type": "code",
   "execution_count": 19,
   "id": "5084b4e0-244a-49ba-b33d-8a52786e9afd",
   "metadata": {},
   "outputs": [
    {
     "data": {
      "text/plain": [
       "['Bruce',\n",
       " 'Bruce',\n",
       " 'Christy',\n",
       " 'Clint',\n",
       " 'Clint',\n",
       " 'Dave',\n",
       " 'Sigourney',\n",
       " 'Sigourney',\n",
       " 'Tanner',\n",
       " 'Taylor']"
      ]
     },
     "execution_count": 19,
     "metadata": {},
     "output_type": "execute_result"
    }
   ],
   "source": [
    "names"
   ]
  },
  {
   "cell_type": "code",
   "execution_count": 20,
   "id": "0d3b9ab8-64ba-4b48-bb43-27eb2f96092c",
   "metadata": {},
   "outputs": [],
   "source": [
    "names.sort(reverse=True) # \"keyword\" argument to tell sort() to sort in REVERSE order"
   ]
  },
  {
   "cell_type": "code",
   "execution_count": 21,
   "id": "0051e080-3711-470e-9cfb-15018046ada9",
   "metadata": {},
   "outputs": [
    {
     "data": {
      "text/plain": [
       "['Taylor',\n",
       " 'Tanner',\n",
       " 'Sigourney',\n",
       " 'Sigourney',\n",
       " 'Dave',\n",
       " 'Clint',\n",
       " 'Clint',\n",
       " 'Christy',\n",
       " 'Bruce',\n",
       " 'Bruce']"
      ]
     },
     "execution_count": 21,
     "metadata": {},
     "output_type": "execute_result"
    }
   ],
   "source": [
    "names"
   ]
  },
  {
   "cell_type": "code",
   "execution_count": 22,
   "id": "0b81d1c4-7d19-4496-b161-f5c805f2831b",
   "metadata": {},
   "outputs": [],
   "source": [
    "names.sort() # sort the list in ascending alphabetical order"
   ]
  },
  {
   "cell_type": "code",
   "execution_count": 23,
   "id": "48362411-5cd9-4e57-9a2c-b03382569847",
   "metadata": {},
   "outputs": [
    {
     "data": {
      "text/plain": [
       "10"
      ]
     },
     "execution_count": 23,
     "metadata": {},
     "output_type": "execute_result"
    }
   ],
   "source": [
    "len(names) # return the length (number of items) in an object (in this case, a list)"
   ]
  },
  {
   "cell_type": "code",
   "execution_count": 24,
   "id": "1aa77a9b-92a2-4fb5-aa8f-d8e8310f0c46",
   "metadata": {},
   "outputs": [],
   "source": [
    "number = 45"
   ]
  },
  {
   "cell_type": "code",
   "execution_count": 25,
   "id": "109425a8-2051-44ac-a9e2-8d4d498a0370",
   "metadata": {},
   "outputs": [
    {
     "ename": "AttributeError",
     "evalue": "'int' object has no attribute 'sort'",
     "output_type": "error",
     "traceback": [
      "\u001b[0;31m---------------------------------------------------------------------------\u001b[0m",
      "\u001b[0;31mAttributeError\u001b[0m                            Traceback (most recent call last)",
      "Input \u001b[0;32mIn [25]\u001b[0m, in \u001b[0;36m<cell line: 1>\u001b[0;34m()\u001b[0m\n\u001b[0;32m----> 1\u001b[0m \u001b[43mnumber\u001b[49m\u001b[38;5;241;43m.\u001b[39;49m\u001b[43msort\u001b[49m()\n",
      "\u001b[0;31mAttributeError\u001b[0m: 'int' object has no attribute 'sort'"
     ]
    }
   ],
   "source": [
    "number.sort()"
   ]
  },
  {
   "cell_type": "code",
   "execution_count": 26,
   "id": "c997f739-8a80-4264-b840-fc3c8aa21a40",
   "metadata": {},
   "outputs": [
    {
     "data": {
      "text/plain": [
       "14"
      ]
     },
     "execution_count": 26,
     "metadata": {},
     "output_type": "execute_result"
    }
   ],
   "source": [
    "2 * 7"
   ]
  },
  {
   "cell_type": "code",
   "execution_count": 27,
   "id": "5def5ab6-6f36-42f3-8608-2f98b45805a5",
   "metadata": {},
   "outputs": [
    {
     "data": {
      "text/plain": [
       "'Taylor'"
      ]
     },
     "execution_count": 27,
     "metadata": {},
     "output_type": "execute_result"
    }
   ],
   "source": [
    "names[-1] # \"What's the last name in the list?\""
   ]
  },
  {
   "cell_type": "code",
   "execution_count": 28,
   "id": "cdd93acf-ef4b-4f34-b744-e05cb731a151",
   "metadata": {},
   "outputs": [],
   "source": [
    "names.sort() # sort the list and shut up"
   ]
  },
  {
   "cell_type": "code",
   "execution_count": 29,
   "id": "c1a6ebff-245a-4438-ab6e-5f1a977b9859",
   "metadata": {},
   "outputs": [
    {
     "data": {
      "text/plain": [
       "['Bruce',\n",
       " 'Bruce',\n",
       " 'Christy',\n",
       " 'Clint',\n",
       " 'Clint',\n",
       " 'Dave',\n",
       " 'Sigourney',\n",
       " 'Sigourney',\n",
       " 'Tanner',\n",
       " 'Taylor']"
      ]
     },
     "execution_count": 29,
     "metadata": {},
     "output_type": "execute_result"
    }
   ],
   "source": [
    "names"
   ]
  },
  {
   "cell_type": "code",
   "execution_count": 30,
   "id": "64af6b12-18f8-4a3a-aef5-90298c55efd7",
   "metadata": {},
   "outputs": [
    {
     "data": {
      "text/plain": [
       "6"
      ]
     },
     "execution_count": 30,
     "metadata": {},
     "output_type": "execute_result"
    }
   ],
   "source": [
    "len('string')"
   ]
  },
  {
   "cell_type": "code",
   "execution_count": 31,
   "id": "8ce55c9a-0a55-4a74-9417-89130f0134f6",
   "metadata": {},
   "outputs": [
    {
     "data": {
      "text/plain": [
       "10"
      ]
     },
     "execution_count": 31,
     "metadata": {},
     "output_type": "execute_result"
    }
   ],
   "source": [
    "len(names)"
   ]
  },
  {
   "cell_type": "code",
   "execution_count": 32,
   "id": "eaf1b1ad-a045-4271-9672-c754eafe54ec",
   "metadata": {},
   "outputs": [
    {
     "data": {
      "text/plain": [
       "0"
      ]
     },
     "execution_count": 32,
     "metadata": {},
     "output_type": "execute_result"
    }
   ],
   "source": [
    "len({})"
   ]
  },
  {
   "cell_type": "code",
   "execution_count": 33,
   "id": "0bff2d90-1734-4f10-b234-a7eca229eb54",
   "metadata": {},
   "outputs": [
    {
     "data": {
      "text/plain": [
       "['g', 'i', 'n', 'r', 's', 't']"
      ]
     },
     "execution_count": 33,
     "metadata": {},
     "output_type": "execute_result"
    }
   ],
   "source": [
    "sorted('string') # RETURN a SORTED LIST of the items in the container/iterable"
   ]
  },
  {
   "cell_type": "code",
   "execution_count": 34,
   "id": "b018bb76-f27a-418b-8793-8ab35f746fce",
   "metadata": {},
   "outputs": [
    {
     "data": {
      "text/plain": [
       "[-4, 1, 2, 3, 5]"
      ]
     },
     "execution_count": 34,
     "metadata": {},
     "output_type": "execute_result"
    }
   ],
   "source": [
    "sorted([3, 1, 5, -4, 2]) # RETURN a SORTED LIST of the items in the list we passed to it"
   ]
  },
  {
   "cell_type": "code",
   "execution_count": 36,
   "id": "3bde10ae-3664-4b5b-9e42-792dd18a90f9",
   "metadata": {},
   "outputs": [],
   "source": [
    "import random"
   ]
  },
  {
   "cell_type": "code",
   "execution_count": 53,
   "id": "51296e58-d59e-418d-b0fb-567f58a3c439",
   "metadata": {},
   "outputs": [],
   "source": [
    "random.shuffle(names) # \"Shuffle (or randomize) the list/container of names\""
   ]
  },
  {
   "cell_type": "code",
   "execution_count": 54,
   "id": "239cbea8-9b4f-494a-bd54-47aca706d043",
   "metadata": {},
   "outputs": [
    {
     "data": {
      "text/plain": [
       "['Dave',\n",
       " 'Sigourney',\n",
       " 'Tanner',\n",
       " 'Clint',\n",
       " 'Sigourney',\n",
       " 'Bruce',\n",
       " 'Christy',\n",
       " 'Taylor',\n",
       " 'Bruce',\n",
       " 'Clint']"
      ]
     },
     "execution_count": 54,
     "metadata": {},
     "output_type": "execute_result"
    }
   ],
   "source": [
    "names"
   ]
  },
  {
   "cell_type": "code",
   "execution_count": 51,
   "id": "ed4144a0-acfd-4175-830c-5b4cfe3937e4",
   "metadata": {},
   "outputs": [],
   "source": [
    "names.sort() # \"sorted the items in the names list in alphabetical order (IN PLACE)\""
   ]
  },
  {
   "cell_type": "code",
   "execution_count": 56,
   "id": "189a60ad-94ef-4de9-a115-52fe2791a6bc",
   "metadata": {},
   "outputs": [
    {
     "data": {
      "text/plain": [
       "['Dave',\n",
       " 'Sigourney',\n",
       " 'Tanner',\n",
       " 'Clint',\n",
       " 'Sigourney',\n",
       " 'Bruce',\n",
       " 'Christy',\n",
       " 'Taylor',\n",
       " 'Bruce',\n",
       " 'Clint']"
      ]
     },
     "execution_count": 56,
     "metadata": {},
     "output_type": "execute_result"
    }
   ],
   "source": [
    "names # now we expect the items in this list to be sorted"
   ]
  },
  {
   "cell_type": "code",
   "execution_count": 57,
   "id": "fef4e2e8-09ba-4624-8475-822ad6bfa789",
   "metadata": {},
   "outputs": [
    {
     "data": {
      "text/plain": [
       "['Bruce',\n",
       " 'Bruce',\n",
       " 'Christy',\n",
       " 'Clint',\n",
       " 'Clint',\n",
       " 'Dave',\n",
       " 'Sigourney',\n",
       " 'Sigourney',\n",
       " 'Tanner',\n",
       " 'Taylor']"
      ]
     },
     "execution_count": 57,
     "metadata": {},
     "output_type": "execute_result"
    }
   ],
   "source": [
    "sorted(names) # RETURN a NEW S ORTED LIST of the items in names"
   ]
  },
  {
   "cell_type": "code",
   "execution_count": 58,
   "id": "ab8de427-db38-4c2f-96c7-b16bc6f50c88",
   "metadata": {},
   "outputs": [
    {
     "data": {
      "text/plain": [
       "['Dave',\n",
       " 'Sigourney',\n",
       " 'Tanner',\n",
       " 'Clint',\n",
       " 'Sigourney',\n",
       " 'Bruce',\n",
       " 'Christy',\n",
       " 'Taylor',\n",
       " 'Bruce',\n",
       " 'Clint']"
      ]
     },
     "execution_count": 58,
     "metadata": {},
     "output_type": "execute_result"
    }
   ],
   "source": [
    "names"
   ]
  },
  {
   "cell_type": "code",
   "execution_count": 59,
   "id": "c002f5df-8b90-4132-871e-12356e18ab6f",
   "metadata": {},
   "outputs": [
    {
     "data": {
      "text/plain": [
       "['g', 'i', 'n', 'r', 's', 't']"
      ]
     },
     "execution_count": 59,
     "metadata": {},
     "output_type": "execute_result"
    }
   ],
   "source": [
    "sorted('stirng')"
   ]
  },
  {
   "cell_type": "code",
   "execution_count": 60,
   "id": "4b9d0934-3d36-460a-a29f-e3c64d6394ef",
   "metadata": {},
   "outputs": [
    {
     "data": {
      "text/plain": [
       "[-4, 1, 2, 3, 5]"
      ]
     },
     "execution_count": 60,
     "metadata": {},
     "output_type": "execute_result"
    }
   ],
   "source": [
    "sorted([1, 3, 2, -4, 5])"
   ]
  },
  {
   "cell_type": "code",
   "execution_count": 61,
   "id": "36381649-728d-41ea-8cd9-a83dca764fec",
   "metadata": {},
   "outputs": [
    {
     "data": {
      "text/plain": [
       "['alpha', 'one']"
      ]
     },
     "execution_count": 61,
     "metadata": {},
     "output_type": "execute_result"
    }
   ],
   "source": [
    "sorted({'one': 1, 'alpha': 1})"
   ]
  },
  {
   "cell_type": "code",
   "execution_count": 62,
   "id": "6ce1ec08-3293-49ba-9079-53f249dee48e",
   "metadata": {},
   "outputs": [
    {
     "data": {
      "text/plain": [
       "6"
      ]
     },
     "execution_count": 62,
     "metadata": {},
     "output_type": "execute_result"
    }
   ],
   "source": [
    "len('string')"
   ]
  },
  {
   "cell_type": "code",
   "execution_count": 63,
   "id": "409802e8-084e-4457-bfad-dd7b6fe1a485",
   "metadata": {},
   "outputs": [
    {
     "data": {
      "text/plain": [
       "2"
      ]
     },
     "execution_count": 63,
     "metadata": {},
     "output_type": "execute_result"
    }
   ],
   "source": [
    "len([1, 2])"
   ]
  },
  {
   "cell_type": "code",
   "execution_count": 64,
   "id": "c92b59c0-5713-4946-aaf7-d1646a1db2d4",
   "metadata": {},
   "outputs": [],
   "source": [
    "# 2023\n",
    "# 3220 - 0223 = 2997\n",
    "# 9972 - 2799 = 7173\n",
    "# 7731 - 1377 = 6354\n",
    "# 6543 - 3456 = 3087\n",
    "# 8730 - 0378 = 8352\n",
    "# 8532 - 2358 = 6174\n",
    "# 7641 - 1467 = 6174"
   ]
  },
  {
   "cell_type": "code",
   "execution_count": 65,
   "id": "b48234e7-7617-4385-a183-0860a2ccc382",
   "metadata": {},
   "outputs": [
    {
     "data": {
      "text/plain": [
       "2997"
      ]
     },
     "execution_count": 65,
     "metadata": {},
     "output_type": "execute_result"
    }
   ],
   "source": [
    "3220 - 223"
   ]
  },
  {
   "cell_type": "code",
   "execution_count": 66,
   "id": "ea18b1a6-720a-44f9-a3a1-f41268592ba6",
   "metadata": {},
   "outputs": [
    {
     "data": {
      "text/plain": [
       "7173"
      ]
     },
     "execution_count": 66,
     "metadata": {},
     "output_type": "execute_result"
    }
   ],
   "source": [
    "9972 - 2799"
   ]
  },
  {
   "cell_type": "code",
   "execution_count": 67,
   "id": "e82c10f1-730c-4ed0-beca-e1263dbb120f",
   "metadata": {},
   "outputs": [
    {
     "data": {
      "text/plain": [
       "6354"
      ]
     },
     "execution_count": 67,
     "metadata": {},
     "output_type": "execute_result"
    }
   ],
   "source": [
    "7731 - 1377"
   ]
  },
  {
   "cell_type": "code",
   "execution_count": 68,
   "id": "c6a94adf-c920-48ab-b3da-b18a8816efcb",
   "metadata": {},
   "outputs": [
    {
     "data": {
      "text/plain": [
       "3087"
      ]
     },
     "execution_count": 68,
     "metadata": {},
     "output_type": "execute_result"
    }
   ],
   "source": [
    "6543 - 3456"
   ]
  },
  {
   "cell_type": "code",
   "execution_count": 70,
   "id": "b4ec842e-8aa2-410b-bb94-586c627c4e03",
   "metadata": {},
   "outputs": [
    {
     "data": {
      "text/plain": [
       "8352"
      ]
     },
     "execution_count": 70,
     "metadata": {},
     "output_type": "execute_result"
    }
   ],
   "source": [
    "8730 - 378"
   ]
  },
  {
   "cell_type": "code",
   "execution_count": 71,
   "id": "0151845a-8e4a-440a-ab97-f94781fbfe41",
   "metadata": {},
   "outputs": [
    {
     "data": {
      "text/plain": [
       "6174"
      ]
     },
     "execution_count": 71,
     "metadata": {},
     "output_type": "execute_result"
    }
   ],
   "source": [
    "8532 - 2358"
   ]
  },
  {
   "cell_type": "code",
   "execution_count": 72,
   "id": "ab887013-e89a-41f5-8e99-eafa63c06bbd",
   "metadata": {},
   "outputs": [],
   "source": [
    "# 2023\n",
    "# 3220 - 0223 = 2997\n",
    "# 9972 - 2799 = 7173\n",
    "# 7731 - 1377 = 6354\n",
    "# 6543 - 3456 = 3087\n",
    "# 8730 - 0378 = 8352\n",
    "# 8532 - 2358 = 6174\n",
    "# 7641 - 1467 = 6174"
   ]
  },
  {
   "cell_type": "code",
   "execution_count": 73,
   "id": "c7c2644d-45d8-43ac-84ac-1eb5f874c3b5",
   "metadata": {},
   "outputs": [],
   "source": [
    "number = 2023"
   ]
  },
  {
   "cell_type": "code",
   "execution_count": 75,
   "id": "77d4d8cc-66e8-413d-b927-8becb9683e01",
   "metadata": {},
   "outputs": [
    {
     "data": {
      "text/plain": [
       "'2023'"
      ]
     },
     "execution_count": 75,
     "metadata": {},
     "output_type": "execute_result"
    }
   ],
   "source": [
    "str(number)"
   ]
  },
  {
   "cell_type": "code",
   "execution_count": 76,
   "id": "10d639d0-d20a-488e-8dc0-45a153d5e79a",
   "metadata": {},
   "outputs": [
    {
     "data": {
      "text/plain": [
       "'3'"
      ]
     },
     "execution_count": 76,
     "metadata": {},
     "output_type": "execute_result"
    }
   ],
   "source": [
    "str(number)[-1]"
   ]
  },
  {
   "cell_type": "code",
   "execution_count": 77,
   "id": "902b74de-e9ce-4019-b688-94df0b016f66",
   "metadata": {},
   "outputs": [
    {
     "data": {
      "text/plain": [
       "'2'"
      ]
     },
     "execution_count": 77,
     "metadata": {},
     "output_type": "execute_result"
    }
   ],
   "source": [
    "str(number)[0]"
   ]
  },
  {
   "cell_type": "code",
   "execution_count": 80,
   "id": "a4162968-f3a8-46b8-b01a-8385e8b26b97",
   "metadata": {},
   "outputs": [],
   "source": [
    "ascending = sorted(str(number))"
   ]
  },
  {
   "cell_type": "code",
   "execution_count": 81,
   "id": "727c8366-d7d4-47a1-9907-6636816fba3b",
   "metadata": {},
   "outputs": [],
   "source": [
    "descending = sorted(str(number), reverse=True)"
   ]
  },
  {
   "cell_type": "code",
   "execution_count": 82,
   "id": "fed44845-8a04-4660-8d9a-48d6d33b7155",
   "metadata": {},
   "outputs": [
    {
     "data": {
      "text/plain": [
       "['0', '2', '2', '3']"
      ]
     },
     "execution_count": 82,
     "metadata": {},
     "output_type": "execute_result"
    }
   ],
   "source": [
    "ascending"
   ]
  },
  {
   "cell_type": "code",
   "execution_count": 83,
   "id": "3529770a-a9a5-4152-87f6-9fa8ea707c5d",
   "metadata": {},
   "outputs": [
    {
     "data": {
      "text/plain": [
       "['3', '2', '2', '0']"
      ]
     },
     "execution_count": 83,
     "metadata": {},
     "output_type": "execute_result"
    }
   ],
   "source": [
    "descending"
   ]
  },
  {
   "cell_type": "code",
   "execution_count": 84,
   "id": "41951ef4-07b6-4db0-8e9a-3891dd22469c",
   "metadata": {},
   "outputs": [
    {
     "ename": "TypeError",
     "evalue": "int() argument must be a string, a bytes-like object or a number, not 'list'",
     "output_type": "error",
     "traceback": [
      "\u001b[0;31m---------------------------------------------------------------------------\u001b[0m",
      "\u001b[0;31mTypeError\u001b[0m                                 Traceback (most recent call last)",
      "Input \u001b[0;32mIn [84]\u001b[0m, in \u001b[0;36m<cell line: 1>\u001b[0;34m()\u001b[0m\n\u001b[0;32m----> 1\u001b[0m \u001b[38;5;28;43mint\u001b[39;49m\u001b[43m(\u001b[49m\u001b[43mdescending\u001b[49m\u001b[43m)\u001b[49m\n",
      "\u001b[0;31mTypeError\u001b[0m: int() argument must be a string, a bytes-like object or a number, not 'list'"
     ]
    }
   ],
   "source": [
    "int(descending)"
   ]
  },
  {
   "cell_type": "code",
   "execution_count": 85,
   "id": "d444a96b-0158-4777-88e7-9c760bd335de",
   "metadata": {},
   "outputs": [
    {
     "data": {
      "text/plain": [
       "'0223'"
      ]
     },
     "execution_count": 85,
     "metadata": {},
     "output_type": "execute_result"
    }
   ],
   "source": [
    "''.join(ascending)"
   ]
  },
  {
   "cell_type": "code",
   "execution_count": 86,
   "id": "67a45e8d-8987-46b5-a115-e9ee1c16db42",
   "metadata": {},
   "outputs": [
    {
     "data": {
      "text/plain": [
       "223"
      ]
     },
     "execution_count": 86,
     "metadata": {},
     "output_type": "execute_result"
    }
   ],
   "source": [
    "int(''.join(ascending))"
   ]
  },
  {
   "cell_type": "code",
   "execution_count": 87,
   "id": "f1956a49-ed86-43c4-bd48-81791a1f8d6e",
   "metadata": {},
   "outputs": [
    {
     "data": {
      "text/plain": [
       "3220"
      ]
     },
     "execution_count": 87,
     "metadata": {},
     "output_type": "execute_result"
    }
   ],
   "source": [
    "int(''.join(descending))"
   ]
  },
  {
   "cell_type": "code",
   "execution_count": 88,
   "id": "b1eed54d-cf9b-4755-9bfb-fcf1ac7db4d7",
   "metadata": {},
   "outputs": [
    {
     "data": {
      "text/plain": [
       "2997"
      ]
     },
     "execution_count": 88,
     "metadata": {},
     "output_type": "execute_result"
    }
   ],
   "source": [
    "int(''.join(descending)) - int(''.join(ascending))"
   ]
  },
  {
   "cell_type": "code",
   "execution_count": 89,
   "id": "a57fba23-0cb6-4a8d-b116-67ba392b7a8b",
   "metadata": {},
   "outputs": [
    {
     "data": {
      "text/plain": [
       "0"
      ]
     },
     "execution_count": 89,
     "metadata": {},
     "output_type": "execute_result"
    }
   ],
   "source": [
    "4444 - 4444"
   ]
  },
  {
   "cell_type": "code",
   "execution_count": null,
   "id": "61742854-a556-42d6-a279-7fe71c68200f",
   "metadata": {},
   "outputs": [],
   "source": [
    "# 1. get a number from the user\n",
    "# 2. make sure it's 4 digits\n",
    "# 3. while answer != 6174:\n",
    "# 4.   stringify and sort (ascending)\n",
    "# 5.   stringify and sort (descending)\n",
    "# 6.   int-ify and subtract ascneding from descending\n",
    "# 7.   print it out"
   ]
  },
  {
   "cell_type": "code",
   "execution_count": null,
   "id": "3568ed13-a066-49aa-a927-ec9585d8b37b",
   "metadata": {},
   "outputs": [],
   "source": [
    "# 6/30/23: Homework was to take the above and turn it into Python code\n",
    "# to demonstrate Kaprekar's number/routine"
   ]
  }
 ],
 "metadata": {
  "kernelspec": {
   "display_name": "Python 3 (ipykernel)",
   "language": "python",
   "name": "python3"
  },
  "language_info": {
   "codemirror_mode": {
    "name": "ipython",
    "version": 3
   },
   "file_extension": ".py",
   "mimetype": "text/x-python",
   "name": "python",
   "nbconvert_exporter": "python",
   "pygments_lexer": "ipython3",
   "version": "3.9.12"
  }
 },
 "nbformat": 4,
 "nbformat_minor": 5
}
