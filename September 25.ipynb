{
 "cells": [
  {
   "cell_type": "markdown",
   "id": "20dbe424-4986-43dd-8364-c20872151e41",
   "metadata": {},
   "source": [
    "# Things to know about Python\n",
    "* container types all have similar properties\n",
    "  * e.g., str(ing), list, dict(ionary)\n",
    "  * you can index them ... __`[x]`__\n",
    "  * you can slice them ... __`[x:y], [x:], [:x], [x:y:z]`__\n",
    "  * you can iterate thru them ... __`for thing in container`__\n",
    "* vs. scalars (fancy term for \"single values\")\n",
    "  * int, float, (bool)\n",
    "* Python doesn't care about the types of things\n",
    "  * you probably care as the programmer, but Python doesn't\n",
    "  * ...so if you put a string in a variable that was previously an int...\n",
    "    * ...that may not be what you want to do but Python does not care"
   ]
  },
  {
   "cell_type": "markdown",
   "id": "632e343f-2f61-42cd-8c58-07b14032b6e8",
   "metadata": {},
   "source": [
    "# Pythonic\n",
    "* use negative indexing to refer to last item or last few items in a container\n",
    "  * __`string[-1]`__ is last letter\n",
    "  * __`container[-3:]`__ is the last 3 items in container\n",
    "* when an object is difficult to work with, consider converting it to some other type\n",
    "  * e.g., ints can be difficult, so make the strings so that you can iterate thru them\n",
    "    * e.g., __`for digit in str(num):`__"
   ]
  },
  {
   "cell_type": "code",
   "execution_count": 10,
   "id": "f0e2fb45-ad79-467c-9142-b3fcf7c45f73",
   "metadata": {},
   "outputs": [
    {
     "name": "stdin",
     "output_type": "stream",
     "text": [
      "Enter your name:  Bruce Lee\n"
     ]
    }
   ],
   "source": [
    "name = input('Enter your name: ')"
   ]
  },
  {
   "cell_type": "code",
   "execution_count": 11,
   "id": "56f15649-8877-4036-956b-f410a1142575",
   "metadata": {},
   "outputs": [
    {
     "data": {
      "text/plain": [
       "'Bruce Lee'"
      ]
     },
     "execution_count": 11,
     "metadata": {},
     "output_type": "execute_result"
    }
   ],
   "source": [
    "name"
   ]
  },
  {
   "cell_type": "code",
   "execution_count": 8,
   "id": "392101a6-d09a-4b6e-8cee-1f1b3fc3cd43",
   "metadata": {},
   "outputs": [
    {
     "ename": "IndexError",
     "evalue": "string index out of range",
     "output_type": "error",
     "traceback": [
      "\u001b[0;31m---------------------------------------------------------------------------\u001b[0m",
      "\u001b[0;31mIndexError\u001b[0m                                Traceback (most recent call last)",
      "Input \u001b[0;32mIn [8]\u001b[0m, in \u001b[0;36m<cell line: 1>\u001b[0;34m()\u001b[0m\n\u001b[0;32m----> 1\u001b[0m \u001b[43mname\u001b[49m\u001b[43m[\u001b[49m\u001b[38;5;241;43m0\u001b[39;49m\u001b[43m]\u001b[49m\n",
      "\u001b[0;31mIndexError\u001b[0m: string index out of range"
     ]
    }
   ],
   "source": [
    "name[0]"
   ]
  },
  {
   "cell_type": "code",
   "execution_count": 9,
   "id": "b5fd969d-e3f5-4816-b27a-7e3c2d2285da",
   "metadata": {},
   "outputs": [
    {
     "data": {
      "text/plain": [
       "True"
      ]
     },
     "execution_count": 9,
     "metadata": {},
     "output_type": "execute_result"
    }
   ],
   "source": [
    "name == ''"
   ]
  },
  {
   "cell_type": "code",
   "execution_count": 13,
   "id": "6027666c-fbf5-4f6c-9968-5cf9907398d3",
   "metadata": {},
   "outputs": [
    {
     "data": {
      "text/plain": [
       "'456'"
      ]
     },
     "execution_count": 13,
     "metadata": {},
     "output_type": "execute_result"
    }
   ],
   "source": [
    "'0123456789'[4:7] # start at [4] and go thru [6]"
   ]
  },
  {
   "cell_type": "code",
   "execution_count": 14,
   "id": "0adb6680-20b6-486b-95e5-671f237b79d0",
   "metadata": {},
   "outputs": [
    {
     "data": {
      "text/plain": [
       "'34567'"
      ]
     },
     "execution_count": 14,
     "metadata": {},
     "output_type": "execute_result"
    }
   ],
   "source": [
    "'0123456789'[3:8]"
   ]
  },
  {
   "cell_type": "code",
   "execution_count": 15,
   "id": "a91ca4e4-8dcd-46e5-998f-da27ae589eaf",
   "metadata": {},
   "outputs": [
    {
     "data": {
      "text/plain": [
       "'Tanner'"
      ]
     },
     "execution_count": 15,
     "metadata": {},
     "output_type": "execute_result"
    }
   ],
   "source": [
    "'-Tanner'[1:] # from 1 to the end OR \"everything but the first character\""
   ]
  },
  {
   "cell_type": "code",
   "execution_count": 17,
   "id": "2d550007-92bc-4c26-ae44-bdef45cac8dc",
   "metadata": {},
   "outputs": [
    {
     "data": {
      "text/plain": [
       "'ner'"
      ]
     },
     "execution_count": 17,
     "metadata": {},
     "output_type": "execute_result"
    }
   ],
   "source": [
    "'-Tanner'[4:] # \"everything but the first 4 chars\""
   ]
  },
  {
   "cell_type": "code",
   "execution_count": null,
   "id": "4feb1766-11e9-4a8d-9f7e-2d9b4c9ae546",
   "metadata": {},
   "outputs": [],
   "source": [
    "[0, 1, 2, 3, 4, 5][2:] # everything but the first 2 items"
   ]
  },
  {
   "cell_type": "code",
   "execution_count": 18,
   "id": "b027ef6a-2770-42df-b53b-63e788a98c8b",
   "metadata": {},
   "outputs": [],
   "source": [
    "name = 'Dave'"
   ]
  },
  {
   "cell_type": "code",
   "execution_count": 31,
   "id": "4e63db65-555f-453e-b228-656d6eb21540",
   "metadata": {},
   "outputs": [],
   "source": [
    "num = 12345"
   ]
  },
  {
   "cell_type": "code",
   "execution_count": 32,
   "id": "22a57de3-cdee-41e7-b0e0-5782ff0e9cf7",
   "metadata": {},
   "outputs": [
    {
     "data": {
      "text/plain": [
       "'12345'"
      ]
     },
     "execution_count": 32,
     "metadata": {},
     "output_type": "execute_result"
    }
   ],
   "source": [
    "str(num)"
   ]
  },
  {
   "cell_type": "code",
   "execution_count": 34,
   "id": "11332d09-d6f4-48aa-8534-7188587fab56",
   "metadata": {},
   "outputs": [],
   "source": [
    "string_version_of_num = str(num)"
   ]
  },
  {
   "cell_type": "code",
   "execution_count": 35,
   "id": "146fd7ce-0fbd-431f-86b4-f8e536885b31",
   "metadata": {},
   "outputs": [
    {
     "data": {
      "text/plain": [
       "'1'"
      ]
     },
     "execution_count": 35,
     "metadata": {},
     "output_type": "execute_result"
    }
   ],
   "source": [
    "string_version_of_num[0]"
   ]
  },
  {
   "cell_type": "code",
   "execution_count": 36,
   "id": "811cbd43-1a43-4da2-ab70-6c6160bdbec9",
   "metadata": {},
   "outputs": [
    {
     "data": {
      "text/plain": [
       "'2'"
      ]
     },
     "execution_count": 36,
     "metadata": {},
     "output_type": "execute_result"
    }
   ],
   "source": [
    "string_version_of_num[1]"
   ]
  },
  {
   "cell_type": "code",
   "execution_count": 39,
   "id": "3b360d18-6dc6-49e1-8a69-bd6cb9a408e2",
   "metadata": {},
   "outputs": [],
   "source": [
    "name = 'Taylor Alison Swift'"
   ]
  },
  {
   "cell_type": "code",
   "execution_count": 40,
   "id": "554f89a5-fbc6-4ded-a9df-e19afae8c8f2",
   "metadata": {},
   "outputs": [
    {
     "data": {
      "text/plain": [
       "['Taylor', 'Alison', 'Swift']"
      ]
     },
     "execution_count": 40,
     "metadata": {},
     "output_type": "execute_result"
    }
   ],
   "source": [
    "name.split()"
   ]
  },
  {
   "cell_type": "code",
   "execution_count": 44,
   "id": "76dd2784-5535-43ba-b728-e3eb3b32a404",
   "metadata": {},
   "outputs": [
    {
     "name": "stdout",
     "output_type": "stream",
     "text": [
      "T\n",
      "a\n",
      "y\n",
      "l\n",
      "o\n",
      "r\n",
      " \n",
      "A\n",
      "l\n",
      "i\n",
      "s\n",
      "o\n",
      "n\n",
      " \n",
      "S\n",
      "w\n",
      "i\n",
      "f\n",
      "t\n"
     ]
    }
   ],
   "source": [
    "for letter in name: # \"for thing in container\"\n",
    "    print(letter)"
   ]
  },
  {
   "cell_type": "code",
   "execution_count": 45,
   "id": "6457ee7e-e665-4e26-82a7-4e594abc1891",
   "metadata": {},
   "outputs": [
    {
     "data": {
      "text/plain": [
       "'12345'"
      ]
     },
     "execution_count": 45,
     "metadata": {},
     "output_type": "execute_result"
    }
   ],
   "source": [
    "string_version_of_num"
   ]
  },
  {
   "cell_type": "code",
   "execution_count": 46,
   "id": "e5d0dd41-0fc1-4be6-8d86-d74e686a45ca",
   "metadata": {},
   "outputs": [
    {
     "name": "stdout",
     "output_type": "stream",
     "text": [
      "1\n",
      "2\n",
      "3\n",
      "4\n",
      "5\n"
     ]
    }
   ],
   "source": [
    "for digit in string_version_of_num:\n",
    "    print(digit)"
   ]
  },
  {
   "cell_type": "code",
   "execution_count": 49,
   "id": "b029d165-67d2-4bcd-8533-1c704642fe21",
   "metadata": {},
   "outputs": [
    {
     "data": {
      "text/plain": [
       "'wordword'"
      ]
     },
     "execution_count": 49,
     "metadata": {},
     "output_type": "execute_result"
    }
   ],
   "source": [
    "'word' + 'word' # concatenation"
   ]
  },
  {
   "cell_type": "code",
   "execution_count": 50,
   "id": "6213f059-8978-4a89-8815-46591f4e8880",
   "metadata": {},
   "outputs": [
    {
     "data": {
      "text/plain": [
       "'wordword'"
      ]
     },
     "execution_count": 50,
     "metadata": {},
     "output_type": "execute_result"
    }
   ],
   "source": [
    "'word' * 2 # replication: 2 copies"
   ]
  },
  {
   "cell_type": "code",
   "execution_count": 51,
   "id": "cdb91e0a-5961-4c27-b1ea-119f7ef2c2e6",
   "metadata": {},
   "outputs": [],
   "source": [
    "# Kaprekar constant = 6174"
   ]
  },
  {
   "cell_type": "code",
   "execution_count": 52,
   "id": "c20dd81a-147b-4afb-8cf3-30a2cb6f781f",
   "metadata": {},
   "outputs": [],
   "source": [
    "number = 1432"
   ]
  },
  {
   "cell_type": "code",
   "execution_count": 53,
   "id": "9558901d-e2b1-4ec2-8519-3d5256bf9727",
   "metadata": {},
   "outputs": [],
   "source": [
    "# sort the digits from low to high ... 1234\n",
    "# sort the digits from high to low ... 4321"
   ]
  },
  {
   "cell_type": "code",
   "execution_count": 54,
   "id": "3a13606d-961c-4edd-a6e7-f89e7233b61e",
   "metadata": {},
   "outputs": [],
   "source": [
    "# subtract the lower one from the higher one:\n",
    "# 4321 - 1234 "
   ]
  },
  {
   "cell_type": "code",
   "execution_count": 55,
   "id": "1de1c577-7a8b-4100-9ad9-c8d5b1443989",
   "metadata": {},
   "outputs": [
    {
     "data": {
      "text/plain": [
       "3087"
      ]
     },
     "execution_count": 55,
     "metadata": {},
     "output_type": "execute_result"
    }
   ],
   "source": [
    "4321 - 1234"
   ]
  },
  {
   "cell_type": "code",
   "execution_count": 56,
   "id": "111b8f26-1c51-4f8a-bcd0-df7fb82daa1b",
   "metadata": {},
   "outputs": [],
   "source": [
    "# sort the digits from low to high ... 0378\n",
    "# sort the digits from high to low ... 8730\n",
    "# 8730 - 0378"
   ]
  },
  {
   "cell_type": "code",
   "execution_count": 57,
   "id": "777503a9-f310-4a0d-b748-3395aa4a4361",
   "metadata": {},
   "outputs": [
    {
     "data": {
      "text/plain": [
       "8352"
      ]
     },
     "execution_count": 57,
     "metadata": {},
     "output_type": "execute_result"
    }
   ],
   "source": [
    "8730 - 378"
   ]
  },
  {
   "cell_type": "code",
   "execution_count": 58,
   "id": "6ebf7738-6b4c-4d7b-932a-fd2d9e90161f",
   "metadata": {},
   "outputs": [
    {
     "data": {
      "text/plain": [
       "6174"
      ]
     },
     "execution_count": 58,
     "metadata": {},
     "output_type": "execute_result"
    }
   ],
   "source": [
    "# sort the digits from low to high ... 2358\n",
    "# sort the digits from high to low ... 8532\n",
    "8532 - 2358"
   ]
  },
  {
   "cell_type": "code",
   "execution_count": 59,
   "id": "b5acf97b-b8ce-4f4f-9fd1-5948c12f652f",
   "metadata": {},
   "outputs": [
    {
     "data": {
      "text/plain": [
       "6174"
      ]
     },
     "execution_count": 59,
     "metadata": {},
     "output_type": "execute_result"
    }
   ],
   "source": [
    "# sort the digits from low to high ... 1467\n",
    "# sort the digits from high to low ... 7641\n",
    "7641 - 1467"
   ]
  },
  {
   "cell_type": "code",
   "execution_count": 60,
   "id": "bfb35533-0bbe-409d-ab29-166b8fba788b",
   "metadata": {},
   "outputs": [],
   "source": [
    "# 1111 - 1111 = 0, doesn't work if all 4 digits are the same"
   ]
  },
  {
   "cell_type": "code",
   "execution_count": 61,
   "id": "8e454f3c-bdb9-435e-8a7e-96ae4f3f35a8",
   "metadata": {},
   "outputs": [],
   "source": [
    "num = 1432"
   ]
  },
  {
   "cell_type": "code",
   "execution_count": 62,
   "id": "9bc403cb-b6d1-4421-ba31-849806896582",
   "metadata": {},
   "outputs": [],
   "source": [
    "num = 1234 # what we want, but this is to hard to do"
   ]
  },
  {
   "cell_type": "code",
   "execution_count": 63,
   "id": "585dc8d8-a7c4-44d2-a918-e30c2799aba3",
   "metadata": {},
   "outputs": [
    {
     "data": {
      "text/plain": [
       "'1432'"
      ]
     },
     "execution_count": 63,
     "metadata": {},
     "output_type": "execute_result"
    }
   ],
   "source": [
    "str(1432)"
   ]
  },
  {
   "cell_type": "code",
   "execution_count": 64,
   "id": "7d5137bb-9ea3-4650-8d29-14311040e4f4",
   "metadata": {},
   "outputs": [],
   "source": [
    "# no we need to sort, BUT we still have a problem because string are immutable"
   ]
  },
  {
   "cell_type": "code",
   "execution_count": 66,
   "id": "bb4c5073-465a-4c7d-8d12-701138fa0f01",
   "metadata": {},
   "outputs": [
    {
     "data": {
      "text/plain": [
       "['1432']"
      ]
     },
     "execution_count": 66,
     "metadata": {},
     "output_type": "execute_result"
    }
   ],
   "source": [
    "str(1432).split() # makes a list of ONE item"
   ]
  },
  {
   "cell_type": "code",
   "execution_count": 68,
   "id": "244f921b-3272-44bb-99d6-1702a1261ffe",
   "metadata": {},
   "outputs": [
    {
     "data": {
      "text/plain": [
       "['1', '4', '3', '2']"
      ]
     },
     "execution_count": 68,
     "metadata": {},
     "output_type": "execute_result"
    }
   ],
   "source": [
    "list('1432')"
   ]
  },
  {
   "cell_type": "code",
   "execution_count": 78,
   "id": "8ba5a50c-87ef-4342-bad5-4b796c88eccf",
   "metadata": {},
   "outputs": [],
   "source": [
    "num = 2871"
   ]
  },
  {
   "cell_type": "code",
   "execution_count": 79,
   "id": "b63ee957-489f-4a7e-b30a-b00d3494e543",
   "metadata": {},
   "outputs": [],
   "source": [
    "digit_list = list(str(num))"
   ]
  },
  {
   "cell_type": "code",
   "execution_count": 80,
   "id": "b3696c4a-9a3c-4eae-b9b2-95179214b4ff",
   "metadata": {},
   "outputs": [
    {
     "data": {
      "text/plain": [
       "['2', '8', '7', '1']"
      ]
     },
     "execution_count": 80,
     "metadata": {},
     "output_type": "execute_result"
    }
   ],
   "source": [
    "digit_list"
   ]
  },
  {
   "cell_type": "code",
   "execution_count": 81,
   "id": "e0d92e71-870d-4b74-801f-6e049f11a2d8",
   "metadata": {},
   "outputs": [],
   "source": [
    "ascending_digit_list = sorted(digit_list)"
   ]
  },
  {
   "cell_type": "code",
   "execution_count": 82,
   "id": "31ae3b80-6e45-4835-9802-7ba3ae9b9387",
   "metadata": {},
   "outputs": [
    {
     "data": {
      "text/plain": [
       "['2', '8', '7', '1']"
      ]
     },
     "execution_count": 82,
     "metadata": {},
     "output_type": "execute_result"
    }
   ],
   "source": [
    "digit_list"
   ]
  },
  {
   "cell_type": "code",
   "execution_count": 77,
   "id": "7cc94c8e-b0e6-464f-89c1-403b402a0c53",
   "metadata": {},
   "outputs": [
    {
     "data": {
      "text/plain": [
       "['8', '7', '2', '1']"
      ]
     },
     "execution_count": 77,
     "metadata": {},
     "output_type": "execute_result"
    }
   ],
   "source": [
    "descending_digit_list = sorted(digit_list, reverse=True)\n",
    "descending_digit_list"
   ]
  },
  {
   "cell_type": "code",
   "execution_count": 83,
   "id": "9c03a51f-5801-4de6-ac37-617baa918e5f",
   "metadata": {},
   "outputs": [],
   "source": [
    "# now we need do 8721 - 2871"
   ]
  },
  {
   "cell_type": "code",
   "execution_count": 90,
   "id": "bc8db13f-cb55-41e5-a845-5a376a58d23d",
   "metadata": {},
   "outputs": [
    {
     "data": {
      "text/plain": [
       "8721"
      ]
     },
     "execution_count": 90,
     "metadata": {},
     "output_type": "execute_result"
    }
   ],
   "source": [
    "int(''.join(descending_digit_list))"
   ]
  },
  {
   "cell_type": "code",
   "execution_count": 89,
   "id": "a1269400-d018-4596-8f13-26d574db9c62",
   "metadata": {},
   "outputs": [
    {
     "data": {
      "text/plain": [
       "1278"
      ]
     },
     "execution_count": 89,
     "metadata": {},
     "output_type": "execute_result"
    }
   ],
   "source": [
    "int(''.join(ascending_digit_list))"
   ]
  },
  {
   "cell_type": "code",
   "execution_count": 91,
   "id": "50f35b34-9536-4e80-865a-b6ec4f4a06b2",
   "metadata": {},
   "outputs": [
    {
     "data": {
      "text/plain": [
       "7443"
      ]
     },
     "execution_count": 91,
     "metadata": {},
     "output_type": "execute_result"
    }
   ],
   "source": [
    "int(''.join(descending_digit_list)) - int(''.join(ascending_digit_list))"
   ]
  },
  {
   "cell_type": "code",
   "execution_count": 92,
   "id": "acb95104-f3c6-44e4-8b45-459c7c1320b5",
   "metadata": {},
   "outputs": [],
   "source": [
    "# keep going until answer is 6174"
   ]
  },
  {
   "cell_type": "code",
   "execution_count": 93,
   "id": "f5481b52-0a65-4a56-aef6-7118ef5be657",
   "metadata": {},
   "outputs": [
    {
     "name": "stdin",
     "output_type": "stream",
     "text": [
      "Enter number:  0381\n"
     ]
    }
   ],
   "source": [
    "# the above works for leading 0s\n",
    "num = input('Enter number: ')"
   ]
  },
  {
   "cell_type": "code",
   "execution_count": 94,
   "id": "6e5497ab-76f3-4a49-8edc-0d5861c312f5",
   "metadata": {},
   "outputs": [
    {
     "data": {
      "text/plain": [
       "'0381'"
      ]
     },
     "execution_count": 94,
     "metadata": {},
     "output_type": "execute_result"
    }
   ],
   "source": [
    "num"
   ]
  },
  {
   "cell_type": "code",
   "execution_count": 96,
   "id": "e363e340-182b-4b3f-9634-de253789b353",
   "metadata": {},
   "outputs": [
    {
     "data": {
      "text/plain": [
       "['0', '3', '8', '1']"
      ]
     },
     "execution_count": 96,
     "metadata": {},
     "output_type": "execute_result"
    }
   ],
   "source": [
    "digit_list = list(num)\n",
    "digit_list"
   ]
  },
  {
   "cell_type": "code",
   "execution_count": 98,
   "id": "b921956e-ed4d-472b-aa17-5b62f8bc95ab",
   "metadata": {},
   "outputs": [
    {
     "data": {
      "text/plain": [
       "8310"
      ]
     },
     "execution_count": 98,
     "metadata": {},
     "output_type": "execute_result"
    }
   ],
   "source": [
    "descending_digit_list = sorted(digit_list, reverse=True)\n",
    "int(''.join(descending_digit_list))"
   ]
  },
  {
   "cell_type": "code",
   "execution_count": 99,
   "id": "80dbe0fe-cc00-4fd5-99d1-38f30dfafb51",
   "metadata": {},
   "outputs": [
    {
     "data": {
      "text/plain": [
       "138"
      ]
     },
     "execution_count": 99,
     "metadata": {},
     "output_type": "execute_result"
    }
   ],
   "source": [
    "ascending_digit_list = sorted(digit_list)\n",
    "int(''.join(ascending_digit_list))"
   ]
  },
  {
   "cell_type": "code",
   "execution_count": 100,
   "id": "4eca0255-6308-4db5-9e1e-3c2a5a446c04",
   "metadata": {},
   "outputs": [
    {
     "data": {
      "text/plain": [
       "8172"
      ]
     },
     "execution_count": 100,
     "metadata": {},
     "output_type": "execute_result"
    }
   ],
   "source": [
    "8310 - 138"
   ]
  },
  {
   "cell_type": "code",
   "execution_count": null,
   "id": "c925ec79-9566-4046-ae58-658f09806c45",
   "metadata": {},
   "outputs": [],
   "source": []
  }
 ],
 "metadata": {
  "kernelspec": {
   "display_name": "Python 3 (ipykernel)",
   "language": "python",
   "name": "python3"
  },
  "language_info": {
   "codemirror_mode": {
    "name": "ipython",
    "version": 3
   },
   "file_extension": ".py",
   "mimetype": "text/x-python",
   "name": "python",
   "nbconvert_exporter": "python",
   "pygments_lexer": "ipython3",
   "version": "3.9.12"
  }
 },
 "nbformat": 4,
 "nbformat_minor": 5
}
