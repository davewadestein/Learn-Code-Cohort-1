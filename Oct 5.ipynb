{
 "cells": [
  {
   "cell_type": "markdown",
   "id": "4cafcf94-05df-4e4f-8d59-f06b1becd856",
   "metadata": {},
   "source": [
    "# student list\n",
    "* ask user how many student are in the class?\n",
    "* get a name for each student, put it in a list\n",
    "* if the name begins with a '-', e.g., '-Tanner', that means remove it from the list, rather than add\n",
    "* stop when the name is empty\n",
    "* print out the student list, in alphabetical order"
   ]
  },
  {
   "cell_type": "code",
   "execution_count": 5,
   "id": "8ac39ced-1be6-4285-a6b5-0cf4e4b28454",
   "metadata": {},
   "outputs": [
    {
     "name": "stdin",
     "output_type": "stream",
     "text": [
      "How many students are in the class?  3\n"
     ]
    }
   ],
   "source": [
    "num_students = int(input('How many students are in the class? '))"
   ]
  },
  {
   "cell_type": "code",
   "execution_count": 6,
   "id": "be40b1e4-0b4d-4390-8de0-f579748e72a4",
   "metadata": {},
   "outputs": [
    {
     "data": {
      "text/plain": [
       "3"
      ]
     },
     "execution_count": 6,
     "metadata": {},
     "output_type": "execute_result"
    }
   ],
   "source": [
    "num_students"
   ]
  },
  {
   "cell_type": "code",
   "execution_count": 7,
   "id": "145b9ced-59c5-4cc0-81bf-0b4b88917160",
   "metadata": {},
   "outputs": [
    {
     "name": "stdin",
     "output_type": "stream",
     "text": [
      "Enter student name:  Tanner\n",
      "Enter student name:  Christy\n",
      "Enter student name:  Dave\n"
     ]
    },
    {
     "name": "stdout",
     "output_type": "stream",
     "text": [
      "['Tanner', 'Christy', 'Dave']\n"
     ]
    }
   ],
   "source": [
    "# 0.  get number of students\n",
    "# 0a. make an empty list\n",
    "# 1.  for each student\n",
    "# 2.     get student name\n",
    "# 3.     put name in a list\n",
    "\n",
    "num_students = int(input('How many students are in the class? '))\n",
    "names = [] # 0\n",
    "for num in range(num_students): # 1 \"do this num_students times\"\n",
    "    name = input('Enter student name: ') # 2\n",
    "    names.append(name) # 3\n",
    "    \n",
    "print(names)"
   ]
  },
  {
   "cell_type": "code",
   "execution_count": 8,
   "id": "c1e63cf9-8bc1-43f0-9f01-99ef86346e1f",
   "metadata": {},
   "outputs": [
    {
     "name": "stdout",
     "output_type": "stream",
     "text": [
      "Tanner Christy Dave "
     ]
    }
   ],
   "source": [
    "for name in names: # for each name in the list\n",
    "    print(name, end=' ')"
   ]
  },
  {
   "cell_type": "code",
   "execution_count": 9,
   "id": "bfef9948-5bee-4b29-9cdd-563b4de89b8c",
   "metadata": {},
   "outputs": [
    {
     "name": "stdout",
     "output_type": "stream",
     "text": [
      "Tanner Christy Dave\n"
     ]
    }
   ],
   "source": [
    "print(names[0], names[1], names[2])"
   ]
  },
  {
   "cell_type": "code",
   "execution_count": 10,
   "id": "1ba1a165-3d10-4ee5-9d71-dfbd285b12f6",
   "metadata": {},
   "outputs": [
    {
     "name": "stdout",
     "output_type": "stream",
     "text": [
      "Tanner Christy Dave\n"
     ]
    }
   ],
   "source": [
    "# trick to do the above w/o writing loop\n",
    "# the * operator in front of a container means \"unpack\" the container\n",
    "print(*names) # same as print(names[0], names[1], names[2])"
   ]
  },
  {
   "cell_type": "code",
   "execution_count": 11,
   "id": "7b297d38-638a-4b55-b799-c430c9bf3a1b",
   "metadata": {},
   "outputs": [
    {
     "name": "stdout",
     "output_type": "stream",
     "text": [
      "Tanner, Christy, Dave\n"
     ]
    }
   ],
   "source": [
    "print(*names, sep=', ')"
   ]
  },
  {
   "cell_type": "code",
   "execution_count": 12,
   "id": "89761b3b-5320-4fd8-b185-e9ce86b8afd4",
   "metadata": {},
   "outputs": [
    {
     "name": "stdout",
     "output_type": "stream",
     "text": [
      "Christy, Dave, Tanner\n"
     ]
    }
   ],
   "source": [
    "print(*sorted(names), sep=', ') # print a sorted version of the list, w/o changing the list"
   ]
  },
  {
   "cell_type": "code",
   "execution_count": 13,
   "id": "62d54eb8-cae6-40ac-83d8-8e8efd935ac6",
   "metadata": {},
   "outputs": [
    {
     "data": {
      "text/plain": [
       "['Tanner', 'Christy', 'Dave']"
      ]
     },
     "execution_count": 13,
     "metadata": {},
     "output_type": "execute_result"
    }
   ],
   "source": [
    "names"
   ]
  },
  {
   "cell_type": "code",
   "execution_count": 20,
   "id": "111ca4ce-7cc3-4bdf-9614-b98ea44f0d6a",
   "metadata": {},
   "outputs": [
    {
     "name": "stdout",
     "output_type": "stream",
     "text": [
      "something\n",
      "something else\n"
     ]
    }
   ],
   "source": [
    "print('something') # by default, print() adds a '\\n' (newline) when it's done\n",
    "print('something else')"
   ]
  },
  {
   "cell_type": "code",
   "execution_count": 22,
   "id": "763f494b-7bb9-4652-b56a-21eb7b791296",
   "metadata": {},
   "outputs": [
    {
     "name": "stdout",
     "output_type": "stream",
     "text": [
      "something\n",
      "--\n",
      "something else\n"
     ]
    }
   ],
   "source": [
    "print('something', end='\\n--\\n') # but we can change that to any string we want\n",
    "print('something else')"
   ]
  },
  {
   "cell_type": "code",
   "execution_count": null,
   "id": "534844ed-a74c-47bb-93af-cd6a8cd9f945",
   "metadata": {},
   "outputs": [],
   "source": [
    "# 0.  get number of students\n",
    "# 0a. make an empty list\n",
    "# 1.  until done\n",
    "# 2.     get a response from the user\n",
    "# 3.     if first character of the response is '-'\n",
    "# 4.        remove the name from the list, i.e, '-Tanner' means remove 'Tanner'\n",
    "# 5.     else add the name to the list"
   ]
  },
  {
   "cell_type": "code",
   "execution_count": null,
   "id": "b43b75a9-9fce-42f8-9cc8-090069aa63ab",
   "metadata": {},
   "outputs": [],
   "source": [
    "# 0.  get number of students\n",
    "# 0a. make an empty list\n",
    "# 1.  until the user says 'quit':\n",
    "# 2.     get a response from the user\n",
    "# 3.     if first character of the response is '-'\n",
    "# 4.        remove the name from the list, i.e, '-Tanner' means remove 'Tanner'\n",
    "# 5.     else add the name to the list"
   ]
  },
  {
   "cell_type": "code",
   "execution_count": 34,
   "id": "7a0f19f6-ac1f-4478-8501-01470a23aca4",
   "metadata": {},
   "outputs": [
    {
     "name": "stdin",
     "output_type": "stream",
     "text": [
      "How many students are in the class?  3\n",
      "Enter a name (or \"quit\" to quit):  Taner\n",
      "Enter a name (or \"quit\" to quit):  -Taner\n",
      "Enter a name (or \"quit\" to quit):  Dave\n",
      "Enter a name (or \"quit\" to quit):  Tanner\n",
      "Enter a name (or \"quit\" to quit):  Christy\n",
      "Enter a name (or \"quit\" to quit):  quit\n"
     ]
    }
   ],
   "source": [
    "num_students = int(input('How many students are in the class? ')) # 0\n",
    "names = [] # 0a\n",
    "name = '' # empty string, to \"prime the pump\"\n",
    "\n",
    "while True: # forever...\n",
    "    name = input('Enter a name (or \"quit\" to quit): ') # 2\n",
    "    # don't we have to check if name is 'quit'...yes, we do\n",
    "    if name == 'quit': # 1\n",
    "        break # this is way out of the loop\n",
    "    if name[0] == '-':\n",
    "        names.remove(name[1:]) # 4 remove the slice w/o first char\n",
    "    else:\n",
    "        names.append(name) # 5"
   ]
  },
  {
   "cell_type": "code",
   "execution_count": 35,
   "id": "ba25f8c7-20db-4765-82c7-ec54edaaebe4",
   "metadata": {},
   "outputs": [
    {
     "data": {
      "text/plain": [
       "['Dave', 'Tanner', 'Christy']"
      ]
     },
     "execution_count": 35,
     "metadata": {},
     "output_type": "execute_result"
    }
   ],
   "source": [
    "names"
   ]
  },
  {
   "cell_type": "code",
   "execution_count": 36,
   "id": "928848ec-9680-4e4f-acb6-117e63c7938f",
   "metadata": {},
   "outputs": [],
   "source": [
    "# some things you could add\n",
    "# 0. print out the list after each input\n",
    "# 1. add a sort function, maybe 'sort'\n",
    "# 2. add a count function maybe 'count' (or maybe do that every time)\n",
    "# 3. error checking: don't let them \"remove\" a name that isn't in the list\n",
    "#    ... '-student' will crash is 'student' is not in the list"
   ]
  },
  {
   "cell_type": "code",
   "execution_count": null,
   "id": "3f7b65c1-242f-4740-95a8-e573dcd01c2b",
   "metadata": {},
   "outputs": [],
   "source": []
  }
 ],
 "metadata": {
  "kernelspec": {
   "display_name": "Python 3 (ipykernel)",
   "language": "python",
   "name": "python3"
  },
  "language_info": {
   "codemirror_mode": {
    "name": "ipython",
    "version": 3
   },
   "file_extension": ".py",
   "mimetype": "text/x-python",
   "name": "python",
   "nbconvert_exporter": "python",
   "pygments_lexer": "ipython3",
   "version": "3.9.12"
  }
 },
 "nbformat": 4,
 "nbformat_minor": 5
}
