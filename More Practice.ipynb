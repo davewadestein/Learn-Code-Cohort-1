{
 "cells": [
  {
   "cell_type": "markdown",
   "id": "f1800b68-71c3-42ae-9483-9a89c05cb414",
   "metadata": {},
   "source": [
    "# Lists\n",
    "* are containers\n",
    "  * holds 0+ items (e.g., egg carton)\n",
    "    * e.g., grocery items (type: str)\n",
    "    * e.g., bowling scores for a particular bowler (type: int)\n",
    "    * e.g., names (type: str)\n",
    "    * e.g., words (type: str)"
   ]
  },
  {
   "cell_type": "code",
   "execution_count": 6,
   "id": "5840e402-39b2-43b2-8024-495e25042e24",
   "metadata": {},
   "outputs": [],
   "source": [
    "# let's imagine that we want to enter and store bowling scores for multiple players\n",
    "# get and store the bowler's names\n",
    "# for each bowler:\n",
    "#.   get and store bowling scores\n",
    "#.   because players did not play the same no. of games, we'll enter 0 to mean no more scores\n",
    "#.   ensure scores are between 1 and 300\n",
    "names = 'Tanner Christy Dave'.split() # split the string into elements of a list"
   ]
  },
  {
   "cell_type": "code",
   "execution_count": 7,
   "id": "90a82bde-ccd4-41ff-ac4d-7b757efdfc6c",
   "metadata": {},
   "outputs": [
    {
     "data": {
      "text/plain": [
       "['Tanner', 'Christy', 'Dave']"
      ]
     },
     "execution_count": 7,
     "metadata": {},
     "output_type": "execute_result"
    }
   ],
   "source": [
    "names"
   ]
  },
  {
   "cell_type": "code",
   "execution_count": 12,
   "id": "d4f85099-75f9-4974-904e-c031808b061a",
   "metadata": {},
   "outputs": [],
   "source": [
    "bowling_scores = {\n",
    "    'Tanner': [], \n",
    "    'Christy': [],\n",
    "    'Dave': [],\n",
    "}"
   ]
  },
  {
   "cell_type": "code",
   "execution_count": 14,
   "id": "9319d1cc-f472-4754-9f1e-3fd62d6fba03",
   "metadata": {},
   "outputs": [],
   "source": [
    "bowling_scores['Christy'].append(235)"
   ]
  },
  {
   "cell_type": "code",
   "execution_count": 15,
   "id": "9ee987b3-dbc6-414a-9da3-d4c0ac4fe7a0",
   "metadata": {},
   "outputs": [
    {
     "data": {
      "text/plain": [
       "{'Tanner': [], 'Christy': [235], 'Dave': []}"
      ]
     },
     "execution_count": 15,
     "metadata": {},
     "output_type": "execute_result"
    }
   ],
   "source": [
    "bowling_scores"
   ]
  },
  {
   "cell_type": "code",
   "execution_count": 20,
   "id": "7cb24c1d-df1b-4b44-8a61-a960a432afe4",
   "metadata": {},
   "outputs": [],
   "source": [
    "bowling_scores['Christy'].append(256)"
   ]
  },
  {
   "cell_type": "code",
   "execution_count": 21,
   "id": "102518ac-3833-4293-86a3-9517e8b744f4",
   "metadata": {},
   "outputs": [
    {
     "data": {
      "text/plain": [
       "{'Tanner': [], 'Christy': [235, 256], 'Dave': []}"
      ]
     },
     "execution_count": 21,
     "metadata": {},
     "output_type": "execute_result"
    }
   ],
   "source": [
    "bowling_scores"
   ]
  },
  {
   "cell_type": "code",
   "execution_count": 22,
   "id": "a709546f-e436-4e3a-a3bf-9c9fe1c9260a",
   "metadata": {},
   "outputs": [],
   "source": [
    "bowling_scores['Tanner'].append(bowling_scores['Christy'].pop())"
   ]
  },
  {
   "cell_type": "code",
   "execution_count": 23,
   "id": "9bf80e60-8890-4646-8e0f-38ab2209ea85",
   "metadata": {},
   "outputs": [
    {
     "data": {
      "text/plain": [
       "{'Tanner': [256], 'Christy': [235], 'Dave': []}"
      ]
     },
     "execution_count": 23,
     "metadata": {},
     "output_type": "execute_result"
    }
   ],
   "source": [
    "bowling_scores"
   ]
  },
  {
   "cell_type": "code",
   "execution_count": 27,
   "id": "cb52d08a-eceb-4fdc-a5ca-e0bd5af175a4",
   "metadata": {},
   "outputs": [],
   "source": [
    "bowling_scores = {}"
   ]
  },
  {
   "cell_type": "code",
   "execution_count": 28,
   "id": "4e3e7a86-86d1-4110-ad67-10f321075146",
   "metadata": {},
   "outputs": [
    {
     "data": {
      "text/plain": [
       "dict"
      ]
     },
     "execution_count": 28,
     "metadata": {},
     "output_type": "execute_result"
    }
   ],
   "source": [
    "type(bowling_scores)"
   ]
  },
  {
   "cell_type": "code",
   "execution_count": 29,
   "id": "a9aeeb5f-9705-4bad-8b0b-1163a5a2bdf1",
   "metadata": {},
   "outputs": [
    {
     "data": {
      "text/plain": [
       "0"
      ]
     },
     "execution_count": 29,
     "metadata": {},
     "output_type": "execute_result"
    }
   ],
   "source": [
    "len(bowling_scores)"
   ]
  },
  {
   "cell_type": "code",
   "execution_count": 30,
   "id": "6ba6e4e9-59af-4b06-acd8-6b1b3df2d0d8",
   "metadata": {},
   "outputs": [],
   "source": [
    "# let's imagine that we want to enter and store bowling scores for multiple players\n",
    "# 0. create an empty dict representing the score sheet\n",
    "# 1. while we get a bowler name from the user and it's not ''\n",
    "# 2.    add the name to the dict as a key, with the value of an empty list ([])\n",
    "# 3. while the user enter something (not ''):\n",
    "# 4.     get a bowler name and their score, e.g., \"Tanner 207\"\n",
    "# 4a.    split name+score into a list so we can get at name separately from score\n",
    "# 5.     validate player (name has to be IN the dictionary)\n",
    "# 5a.         print error message if needed\n",
    "# 6.     validate score (ensure 0 <= score <= 300)\n",
    "# 6a.        print error message if needed\n",
    "# 7.     append score to list associated with this player"
   ]
  },
  {
   "cell_type": "code",
   "execution_count": 38,
   "id": "646cd6e9-3601-4dcb-a3cc-d8d79f0ad718",
   "metadata": {},
   "outputs": [
    {
     "name": "stdin",
     "output_type": "stream",
     "text": [
      "Enter name of next bowler (hit RETURN when done):  Tannr\n",
      "Enter name of next bowler (hit RETURN when done):  Christy\n",
      "Enter name of next bowler (hit RETURN when done):  Dave\n",
      "Enter name of next bowler (hit RETURN when done):  \n"
     ]
    }
   ],
   "source": [
    "scoresheet = {} # 0\n",
    "\n",
    "# get name of bowler and put result into the name variable\n",
    "name = input('Enter name of next bowler (hit RETURN when done): ') # 1\n",
    "\n",
    "# as long as the name is not empty...\n",
    "while name != '': # 1\n",
    "    # add an entry in the dict where the key is 'name' and value is an empty list\n",
    "    scoresheet[name] = [] # 2\n",
    "    # get name of bowler and put result into the name variable\n",
    "    name = input('Enter name of next bowler (hit RETURN when done): ') # 1"
   ]
  },
  {
   "cell_type": "code",
   "execution_count": 39,
   "id": "bf4cf889-09c3-41a2-9c34-f5dc9865ff4c",
   "metadata": {},
   "outputs": [
    {
     "data": {
      "text/plain": [
       "{'Tannr': [], 'Christy': [], 'Dave': []}"
      ]
     },
     "execution_count": 39,
     "metadata": {},
     "output_type": "execute_result"
    }
   ],
   "source": [
    "scoresheet"
   ]
  },
  {
   "cell_type": "markdown",
   "id": "291e375a-1c3a-4aac-aa31-b7b179a23a24",
   "metadata": {},
   "source": [
    "# DRY = Don't Repeat Yourself"
   ]
  },
  {
   "cell_type": "code",
   "execution_count": null,
   "id": "e1b8d709-29e5-456f-a6e9-88b5f131340b",
   "metadata": {},
   "outputs": [],
   "source": [
    "scoresheet = {} # 0\n",
    "\n",
    "# as long as the name is not empty...\n",
    "while True: # infinite loop, never stops (unless we see a break later)\n",
    "    name = input('Enter name of next bowler (hit RETURN when done): ') # 1\n",
    "    if name == '': # middle test loop\n",
    "        break\n",
    "    # add an entry in the dict where the key is 'name' and value is an empty list\n",
    "    scoresheet[name] = [] # 2"
   ]
  },
  {
   "cell_type": "code",
   "execution_count": 41,
   "id": "c2dca334-8b0f-430e-a5ce-47d8a6a81e4b",
   "metadata": {},
   "outputs": [],
   "source": [
    "# if you have Python 3.8+, you can solve the above dilemma this way...\n",
    "# we can use the \"walrus operator\""
   ]
  },
  {
   "cell_type": "code",
   "execution_count": 53,
   "id": "90760932-01e5-4952-aff2-49ee949e0073",
   "metadata": {},
   "outputs": [],
   "source": [
    "scoresheet = {} # 0\n",
    "\n",
    "while (name := input('Enter name of next bowler (hit RETURN when done): ')) != '':\n",
    "    scoresheet[name] = [] # 2"
   ]
  },
  {
   "cell_type": "code",
   "execution_count": 67,
   "id": "a9b1bcff-e437-4717-bcf2-2b905c289229",
   "metadata": {},
   "outputs": [
    {
     "name": "stdin",
     "output_type": "stream",
     "text": [
      "Enter a bowler name followed by their score (hit RETURN when done):  Christy 297\n"
     ]
    },
    {
     "name": "stdout",
     "output_type": "stream",
     "text": [
      "You entered Christy 297\n",
      "I split that into ['Christy', '297']\n"
     ]
    },
    {
     "name": "stdin",
     "output_type": "stream",
     "text": [
      "Enter a bowler name followed by their score (hit RETURN when done):  \n"
     ]
    }
   ],
   "source": [
    "# get name and score from user until they hit RETURN, signalling no more data/input\n",
    "while (entry := input('Enter a bowler name followed by their score (hit RETURN when done): ')) != '': # 3, 4\n",
    "    name_plus_score = entry.split() # 4a\n",
    "    print('You entered', entry)\n",
    "    print('I split that into', name_plus_score)\n",
    "    if name_plus_score[0] in scoresheet: # 5\n",
    "        if 0 <= int(name_plus_score[1]) <= 300: # 6\n",
    "            scoresheet[name_plus_score[0]].append(int(name_plus_score[1])) # 7\n",
    "        else:\n",
    "            print(name_plus_score[1], 'does not seem to be a valid bowling score!')\n",
    "    else:\n",
    "        print(name_plus_score[0], 'is not one of the players!')"
   ]
  },
  {
   "cell_type": "code",
   "execution_count": 53,
   "id": "b12336b5-d1fb-4a73-870a-fcdc310be8b6",
   "metadata": {},
   "outputs": [
    {
     "name": "stdin",
     "output_type": "stream",
     "text": [
      "Enter name of next bowler (hit RETURN when done):  Dave A.\n",
      "Enter name of next bowler (hit RETURN when done):  Dave W.\n",
      "Enter name of next bowler (hit RETURN when done):  Tanner\n",
      "Enter name of next bowler (hit RETURN when done):  Christy\n",
      "Enter name of next bowler (hit RETURN when done):  \n"
     ]
    }
   ],
   "source": [
    "   "
   ]
  },
  {
   "cell_type": "code",
   "execution_count": 65,
   "id": "b0855b85-40f6-49c7-8d14-395ac1a323cf",
   "metadata": {},
   "outputs": [
    {
     "data": {
      "text/plain": [
       "{'Dave A.': [], 'Dave W.': [], 'Tanner': [234, 203], 'Christy': [257, 200]}"
      ]
     },
     "execution_count": 65,
     "metadata": {},
     "output_type": "execute_result"
    }
   ],
   "source": [
    "scoresheet"
   ]
  },
  {
   "cell_type": "code",
   "execution_count": 51,
   "id": "d1ac5b88-027d-445b-8c2c-0bcd7ff023db",
   "metadata": {},
   "outputs": [],
   "source": [
    "scoresheet['Dave'] = []"
   ]
  },
  {
   "cell_type": "code",
   "execution_count": 52,
   "id": "225e07e9-d2ed-4283-8c51-e2b61eb6a9c5",
   "metadata": {},
   "outputs": [
    {
     "data": {
      "text/plain": [
       "{'Dave': []}"
      ]
     },
     "execution_count": 52,
     "metadata": {},
     "output_type": "execute_result"
    }
   ],
   "source": [
    "scoresheet"
   ]
  },
  {
   "cell_type": "code",
   "execution_count": null,
   "id": "1d676b6f-ee7b-4309-bb1e-7d4565333546",
   "metadata": {},
   "outputs": [],
   "source": [
    "# Christy 235\n",
    "# Tanners 207\n",
    "# Tanner 234\n",
    "# Christy 254\n",
    "# Dave 178\n",
    "#"
   ]
  },
  {
   "cell_type": "code",
   "execution_count": 61,
   "id": "6eac0e35-50d5-4258-8f9d-dfc7ca085a76",
   "metadata": {},
   "outputs": [
    {
     "data": {
      "text/plain": [
       "{'Dave A.': [], 'Dave W.': [], 'Tanner': [], 'Christy': []}"
      ]
     },
     "execution_count": 61,
     "metadata": {},
     "output_type": "execute_result"
    }
   ],
   "source": [
    "scoresheet"
   ]
  },
  {
   "cell_type": "code",
   "execution_count": 62,
   "id": "368d8b52-a7f2-4c14-b769-14acb4e3cfc7",
   "metadata": {},
   "outputs": [
    {
     "data": {
      "text/plain": [
       "True"
      ]
     },
     "execution_count": 62,
     "metadata": {},
     "output_type": "execute_result"
    }
   ],
   "source": [
    "'Tanner' in scoresheet"
   ]
  },
  {
   "cell_type": "code",
   "execution_count": 63,
   "id": "c970ac88-8540-4723-9477-7da71a50b40e",
   "metadata": {},
   "outputs": [
    {
     "data": {
      "text/plain": [
       "False"
      ]
     },
     "execution_count": 63,
     "metadata": {},
     "output_type": "execute_result"
    }
   ],
   "source": [
    "'Theo' in scoresheet"
   ]
  },
  {
   "cell_type": "code",
   "execution_count": 68,
   "id": "ca9e7c36-8eb1-4f32-9089-d9273585c9cb",
   "metadata": {},
   "outputs": [
    {
     "data": {
      "text/plain": [
       "['Christy', '297']"
      ]
     },
     "execution_count": 68,
     "metadata": {},
     "output_type": "execute_result"
    }
   ],
   "source": [
    "name_plus_score"
   ]
  },
  {
   "cell_type": "code",
   "execution_count": 69,
   "id": "55c6827e-edea-4f72-81bb-11f0d18a6880",
   "metadata": {},
   "outputs": [
    {
     "data": {
      "text/plain": [
       "'Christy'"
      ]
     },
     "execution_count": 69,
     "metadata": {},
     "output_type": "execute_result"
    }
   ],
   "source": [
    "name_plus_score[0]"
   ]
  },
  {
   "cell_type": "code",
   "execution_count": 71,
   "id": "387953fa-2568-4b7c-bf2e-3fb60fafc016",
   "metadata": {},
   "outputs": [
    {
     "data": {
      "text/plain": [
       "297"
      ]
     },
     "execution_count": 71,
     "metadata": {},
     "output_type": "execute_result"
    }
   ],
   "source": [
    "int(name_plus_score[1])"
   ]
  },
  {
   "cell_type": "code",
   "execution_count": 62,
   "id": "27f41cc7-72a7-4037-b0ce-b28e91b5fe8b",
   "metadata": {},
   "outputs": [
    {
     "name": "stdin",
     "output_type": "stream",
     "text": [
      "Enter a number:  24\n"
     ]
    },
    {
     "name": "stdout",
     "output_type": "stream",
     "text": [
      "24 is even\n"
     ]
    }
   ],
   "source": [
    "number = int(input('Enter a number: '))\n",
    "if number % 2 == 0:\n",
    "    print(number, 'is even')\n",
    "else:\n",
    "    print(number, 'is odd')"
   ]
  },
  {
   "cell_type": "code",
   "execution_count": 6,
   "id": "c69ec212-5d37-4ce4-92f9-79f7dfae62ad",
   "metadata": {},
   "outputs": [],
   "source": [
    "string = '1 2 3'"
   ]
  },
  {
   "cell_type": "code",
   "execution_count": 7,
   "id": "51372196-7ef8-45f4-b2b8-6da26f8e2a5b",
   "metadata": {},
   "outputs": [
    {
     "data": {
      "text/plain": [
       "'1 2 3'"
      ]
     },
     "execution_count": 7,
     "metadata": {},
     "output_type": "execute_result"
    }
   ],
   "source": [
    "string"
   ]
  },
  {
   "cell_type": "code",
   "execution_count": 8,
   "id": "a0c07030-872d-4808-aa0a-de9a6f0f7592",
   "metadata": {},
   "outputs": [
    {
     "ename": "ValueError",
     "evalue": "invalid literal for int() with base 10: '1 2 3'",
     "output_type": "error",
     "traceback": [
      "\u001b[0;31m---------------------------------------------------------------------------\u001b[0m",
      "\u001b[0;31mValueError\u001b[0m                                Traceback (most recent call last)",
      "Input \u001b[0;32mIn [8]\u001b[0m, in \u001b[0;36m<cell line: 1>\u001b[0;34m()\u001b[0m\n\u001b[0;32m----> 1\u001b[0m \u001b[38;5;28;43mint\u001b[39;49m\u001b[43m(\u001b[49m\u001b[43mstring\u001b[49m\u001b[43m)\u001b[49m\n",
      "\u001b[0;31mValueError\u001b[0m: invalid literal for int() with base 10: '1 2 3'"
     ]
    }
   ],
   "source": [
    "int(string)"
   ]
  },
  {
   "cell_type": "code",
   "execution_count": 9,
   "id": "b26fe29a-8ef2-4319-9d5c-67d8e52af6e9",
   "metadata": {},
   "outputs": [],
   "source": [
    "list_of_tings = [1, 2, 3]"
   ]
  },
  {
   "cell_type": "code",
   "execution_count": 10,
   "id": "c727623a-d342-4731-8222-db7b16b09fbc",
   "metadata": {},
   "outputs": [
    {
     "data": {
      "text/plain": [
       "3"
      ]
     },
     "execution_count": 10,
     "metadata": {},
     "output_type": "execute_result"
    }
   ],
   "source": [
    "len(list_of_tings)"
   ]
  },
  {
   "cell_type": "code",
   "execution_count": 11,
   "id": "a088cb87-7c1e-43b1-bd54-409882a313cb",
   "metadata": {},
   "outputs": [
    {
     "data": {
      "text/plain": [
       "7"
      ]
     },
     "execution_count": 11,
     "metadata": {},
     "output_type": "execute_result"
    }
   ],
   "source": [
    "len('Christy')"
   ]
  },
  {
   "cell_type": "code",
   "execution_count": 15,
   "id": "b4f383e8-ee45-47b6-8663-b44cb51a9fb9",
   "metadata": {},
   "outputs": [
    {
     "name": "stdout",
     "output_type": "stream",
     "text": [
      "[1, 2, 3]\n"
     ]
    }
   ],
   "source": [
    "print([1,2,3])"
   ]
  },
  {
   "cell_type": "code",
   "execution_count": 16,
   "id": "80475618-413c-4c23-b8fb-a782b93bd1e2",
   "metadata": {},
   "outputs": [
    {
     "name": "stdout",
     "output_type": "stream",
     "text": [
      "1\n"
     ]
    }
   ],
   "source": [
    "print(1) # print int"
   ]
  },
  {
   "cell_type": "code",
   "execution_count": 17,
   "id": "26c690d0-246c-4b64-8ede-45ed65e8b8a7",
   "metadata": {},
   "outputs": [
    {
     "name": "stdout",
     "output_type": "stream",
     "text": [
      "1.1\n"
     ]
    }
   ],
   "source": [
    "print(1.1) # print float"
   ]
  },
  {
   "cell_type": "code",
   "execution_count": 18,
   "id": "a80d68f0-f8e6-4de9-81d6-d6d694817e20",
   "metadata": {},
   "outputs": [
    {
     "name": "stdout",
     "output_type": "stream",
     "text": [
      "1.1\n"
     ]
    }
   ],
   "source": [
    "print('1.1') # print string"
   ]
  },
  {
   "cell_type": "code",
   "execution_count": 21,
   "id": "c23c6bbc-8682-4340-8de6-bca6dfe4a804",
   "metadata": {},
   "outputs": [
    {
     "name": "stdin",
     "output_type": "stream",
     "text": [
      "Enter your name: dave\n"
     ]
    }
   ],
   "source": [
    "name = input('Enter your name:')"
   ]
  },
  {
   "cell_type": "code",
   "execution_count": 22,
   "id": "7babdd5e-4b2e-4550-922f-9d79b9368b0b",
   "metadata": {},
   "outputs": [
    {
     "data": {
      "text/plain": [
       "'dave'"
      ]
     },
     "execution_count": 22,
     "metadata": {},
     "output_type": "execute_result"
    }
   ],
   "source": [
    "name"
   ]
  },
  {
   "cell_type": "code",
   "execution_count": 23,
   "id": "7f270f6f-a8ac-4d20-a776-352da63d0de7",
   "metadata": {},
   "outputs": [
    {
     "data": {
      "text/plain": [
       "'DAVE'"
      ]
     },
     "execution_count": 23,
     "metadata": {},
     "output_type": "execute_result"
    }
   ],
   "source": [
    "name.upper() # upper() is a string method (function) which means it ONLY works on string"
   ]
  },
  {
   "cell_type": "code",
   "execution_count": 25,
   "id": "073c6c30-64b6-40a2-9b18-1785f7449ae1",
   "metadata": {},
   "outputs": [
    {
     "ename": "AttributeError",
     "evalue": "'int' object has no attribute 'upper'",
     "output_type": "error",
     "traceback": [
      "\u001b[0;31m---------------------------------------------------------------------------\u001b[0m",
      "\u001b[0;31mAttributeError\u001b[0m                            Traceback (most recent call last)",
      "Input \u001b[0;32mIn [25]\u001b[0m, in \u001b[0;36m<cell line: 2>\u001b[0;34m()\u001b[0m\n\u001b[1;32m      1\u001b[0m x \u001b[38;5;241m=\u001b[39m \u001b[38;5;241m123\u001b[39m\n\u001b[0;32m----> 2\u001b[0m \u001b[43mx\u001b[49m\u001b[38;5;241;43m.\u001b[39;49m\u001b[43mupper\u001b[49m()\n",
      "\u001b[0;31mAttributeError\u001b[0m: 'int' object has no attribute 'upper'"
     ]
    }
   ],
   "source": [
    "x = 123\n",
    "x.upper()"
   ]
  },
  {
   "cell_type": "code",
   "execution_count": 26,
   "id": "14dbb27f-a5f5-439f-ad47-6f5608e6e1fb",
   "metadata": {},
   "outputs": [
    {
     "name": "stdin",
     "output_type": "stream",
     "text": [
      "Enter some numbers:  23 42 -113 8 0\n"
     ]
    }
   ],
   "source": [
    "# goal is to modify the odd/even program to take a sequence of integers as input\n",
    "# and tell the user one by one, whether they are odd or even\n",
    "numbers = input('Enter some numbers: ')"
   ]
  },
  {
   "cell_type": "code",
   "execution_count": 27,
   "id": "5ffdeaf9-cc4c-46f9-b92c-ffbb4a88abe1",
   "metadata": {},
   "outputs": [
    {
     "data": {
      "text/plain": [
       "'23 42 -113 8 0'"
      ]
     },
     "execution_count": 27,
     "metadata": {},
     "output_type": "execute_result"
    }
   ],
   "source": [
    "numbers"
   ]
  },
  {
   "cell_type": "code",
   "execution_count": 28,
   "id": "67a2c0e4-91d7-4b50-b873-026048d63a2c",
   "metadata": {},
   "outputs": [
    {
     "data": {
      "text/plain": [
       "['23', '42', '-113', '8', '0']"
      ]
     },
     "execution_count": 28,
     "metadata": {},
     "output_type": "execute_result"
    }
   ],
   "source": [
    "numbers.split() # generate a \"splitted\" list of each word in numbers"
   ]
  },
  {
   "cell_type": "code",
   "execution_count": 29,
   "id": "bb306155-3b0d-4e80-9eda-27eb49f6d86e",
   "metadata": {},
   "outputs": [
    {
     "data": {
      "text/plain": [
       "'23 42 -113 8 0'"
      ]
     },
     "execution_count": 29,
     "metadata": {},
     "output_type": "execute_result"
    }
   ],
   "source": [
    "numbers"
   ]
  },
  {
   "cell_type": "code",
   "execution_count": 30,
   "id": "3a71f0a1-7205-4d3e-bfed-a72ec562093d",
   "metadata": {},
   "outputs": [],
   "source": [
    "numbers = numbers.split() "
   ]
  },
  {
   "cell_type": "code",
   "execution_count": 31,
   "id": "61d2f1eb-9c3b-447b-9f95-777bed2ce3a1",
   "metadata": {},
   "outputs": [
    {
     "data": {
      "text/plain": [
       "['23', '42', '-113', '8', '0']"
      ]
     },
     "execution_count": 31,
     "metadata": {},
     "output_type": "execute_result"
    }
   ],
   "source": [
    "numbers"
   ]
  },
  {
   "cell_type": "code",
   "execution_count": 46,
   "id": "f896bb69-0213-4c4d-a0de-d49200cdf7f7",
   "metadata": {},
   "outputs": [
    {
     "data": {
      "text/plain": [
       "['alpha', 'beta', 'gamma']"
      ]
     },
     "execution_count": 46,
     "metadata": {},
     "output_type": "execute_result"
    }
   ],
   "source": [
    "'alpha beta gamma'.split()"
   ]
  },
  {
   "cell_type": "code",
   "execution_count": 33,
   "id": "83e7de6d-6c05-4275-b17b-b5ed72ee9423",
   "metadata": {},
   "outputs": [
    {
     "data": {
      "text/plain": [
       "'0'"
      ]
     },
     "execution_count": 33,
     "metadata": {},
     "output_type": "execute_result"
    }
   ],
   "source": [
    "numbers[-1]"
   ]
  },
  {
   "cell_type": "code",
   "execution_count": 37,
   "id": "ae7e69be-4f54-4263-94db-315a65d81b47",
   "metadata": {},
   "outputs": [
    {
     "data": {
      "text/plain": [
       "['23', '42', '-113']"
      ]
     },
     "execution_count": 37,
     "metadata": {},
     "output_type": "execute_result"
    }
   ],
   "source": [
    "numbers[0:3]"
   ]
  },
  {
   "cell_type": "code",
   "execution_count": 38,
   "id": "781c9d44-3bc0-49f0-92d8-8fa889150c1a",
   "metadata": {},
   "outputs": [],
   "source": [
    "# for / while\n",
    "# while: when we don't know how many times to repeat something\n",
    "# for: when we do know how many times / OR ... \"for (each) thing in container\""
   ]
  },
  {
   "cell_type": "code",
   "execution_count": 40,
   "id": "53cc71fa-5f4e-4209-aff8-3c230a762cf9",
   "metadata": {},
   "outputs": [
    {
     "name": "stdout",
     "output_type": "stream",
     "text": [
      "1\n",
      "2\n",
      "3\n",
      "4\n",
      "5\n",
      "6\n",
      "7\n",
      "8\n",
      "9\n",
      "10\n"
     ]
    }
   ],
   "source": [
    "for number in range(1, 11):\n",
    "    print(number)"
   ]
  },
  {
   "cell_type": "code",
   "execution_count": 45,
   "id": "a4fedebe-c892-4c82-b78d-655bb18b1fb7",
   "metadata": {},
   "outputs": [
    {
     "name": "stdout",
     "output_type": "stream",
     "text": [
      "23 <class 'str'>\n",
      "42 <class 'str'>\n",
      "-113 <class 'str'>\n",
      "8 <class 'str'>\n",
      "0 <class 'str'>\n"
     ]
    }
   ],
   "source": [
    "for number in numbers:\n",
    "    print(number, type(number))"
   ]
  },
  {
   "cell_type": "code",
   "execution_count": 58,
   "id": "1a06243d-d4b5-47fe-a8a5-ba7e0136bb41",
   "metadata": {},
   "outputs": [
    {
     "name": "stdout",
     "output_type": "stream",
     "text": [
      "23 is odd\n",
      "42 is even\n",
      "-113 is odd\n",
      "8 is even\n",
      "0 is even\n"
     ]
    }
   ],
   "source": [
    "for number in numbers:\n",
    "    number = int(number) # convert number to an integer and PUT IT BACK INTO the number var\n",
    "    if number % 2 == 0:\n",
    "        print(number, 'is even')\n",
    "    else:\n",
    "        print(number, 'is odd')"
   ]
  },
  {
   "cell_type": "code",
   "execution_count": 48,
   "id": "7ed8ce0f-376a-470c-9ea9-4a9d30154d28",
   "metadata": {},
   "outputs": [
    {
     "data": {
      "text/plain": [
       "464"
      ]
     },
     "execution_count": 48,
     "metadata": {},
     "output_type": "execute_result"
    }
   ],
   "source": [
    "464"
   ]
  },
  {
   "cell_type": "code",
   "execution_count": 49,
   "id": "6a93b077-0fea-4687-8d09-fd3f79f5a7e7",
   "metadata": {},
   "outputs": [],
   "source": [
    "num = 464"
   ]
  },
  {
   "cell_type": "code",
   "execution_count": 50,
   "id": "fdd065d2-822a-4f34-9f26-e9f770e5711b",
   "metadata": {},
   "outputs": [
    {
     "data": {
      "text/plain": [
       "464"
      ]
     },
     "execution_count": 50,
     "metadata": {},
     "output_type": "execute_result"
    }
   ],
   "source": [
    "num"
   ]
  },
  {
   "cell_type": "code",
   "execution_count": 51,
   "id": "94e8de31-4668-4db3-8c3f-f0c3b3f4e467",
   "metadata": {},
   "outputs": [],
   "source": [
    "string = '464'"
   ]
  },
  {
   "cell_type": "code",
   "execution_count": 54,
   "id": "99717b95-42d4-4253-9706-68d5c98b3e74",
   "metadata": {},
   "outputs": [
    {
     "data": {
      "text/plain": [
       "464"
      ]
     },
     "execution_count": 54,
     "metadata": {},
     "output_type": "execute_result"
    }
   ],
   "source": [
    "int(string) # compute the integer version of string"
   ]
  },
  {
   "cell_type": "code",
   "execution_count": 53,
   "id": "64c7d1bf-28d4-4d0d-8ab8-7ef80ef0af17",
   "metadata": {},
   "outputs": [
    {
     "data": {
      "text/plain": [
       "'464'"
      ]
     },
     "execution_count": 53,
     "metadata": {},
     "output_type": "execute_result"
    }
   ],
   "source": [
    "string"
   ]
  },
  {
   "cell_type": "code",
   "execution_count": 55,
   "id": "40c56c9c-6a19-43c9-af66-a6e63379b127",
   "metadata": {},
   "outputs": [
    {
     "name": "stdin",
     "output_type": "stream",
     "text": [
      "hi?  bye!\n"
     ]
    },
    {
     "data": {
      "text/plain": [
       "'bye!'"
      ]
     },
     "execution_count": 55,
     "metadata": {},
     "output_type": "execute_result"
    }
   ],
   "source": [
    "input('hi? ')"
   ]
  },
  {
   "cell_type": "code",
   "execution_count": 56,
   "id": "7fa670bd-da92-466c-8e72-02681922cafb",
   "metadata": {},
   "outputs": [
    {
     "name": "stdin",
     "output_type": "stream",
     "text": [
      "hi?  bye!\n"
     ]
    }
   ],
   "source": [
    "response = input('hi? ')"
   ]
  },
  {
   "cell_type": "code",
   "execution_count": 57,
   "id": "a1ab1d7c-f181-4714-99f4-b56cd346a0f3",
   "metadata": {},
   "outputs": [
    {
     "data": {
      "text/plain": [
       "'bye!'"
      ]
     },
     "execution_count": 57,
     "metadata": {},
     "output_type": "execute_result"
    }
   ],
   "source": [
    "response"
   ]
  },
  {
   "cell_type": "code",
   "execution_count": 60,
   "id": "7a4c5991-f06a-4b40-a877-6ad461efb8dd",
   "metadata": {},
   "outputs": [
    {
     "name": "stdout",
     "output_type": "stream",
     "text": [
      "23 is odd\n",
      "42 is even\n",
      "-113 is odd\n",
      "8 is even\n",
      "0 is even\n"
     ]
    }
   ],
   "source": [
    "for number in numbers:\n",
    "    if int(number) % 2 == 0:\n",
    "        print(number, 'is even')\n",
    "    else:\n",
    "        print(number, 'is odd')"
   ]
  },
  {
   "cell_type": "code",
   "execution_count": 65,
   "id": "5f479d62-32ba-48b0-a65d-bf10401676e9",
   "metadata": {},
   "outputs": [
    {
     "name": "stdin",
     "output_type": "stream",
     "text": [
      "Enter a number:  54819\n"
     ]
    }
   ],
   "source": [
    "# Let's write the odd-even program in a way that humans do it\n",
    "number = input('Enter a number: ')"
   ]
  },
  {
   "cell_type": "code",
   "execution_count": 66,
   "id": "ef9d69a1-1d1d-4c2f-b0e7-70d4bc115da4",
   "metadata": {},
   "outputs": [
    {
     "data": {
      "text/plain": [
       "'9'"
      ]
     },
     "execution_count": 66,
     "metadata": {},
     "output_type": "execute_result"
    }
   ],
   "source": [
    "# get a number\n",
    "# look at last digit\n",
    "# if it's 1, 3, 5, 7, 9 odd\n",
    "# else even\n",
    "number[-1]"
   ]
  },
  {
   "cell_type": "code",
   "execution_count": 67,
   "id": "f844c3b2-b499-4bc2-9099-aaff61bdeebb",
   "metadata": {},
   "outputs": [
    {
     "name": "stdout",
     "output_type": "stream",
     "text": [
      "odd\n"
     ]
    }
   ],
   "source": [
    "if number[-1] == '9' or number[-1] == '7':\n",
    "    print('odd')"
   ]
  },
  {
   "cell_type": "code",
   "execution_count": 68,
   "id": "4ff55ef1-879c-4a0e-961e-f794198d7db6",
   "metadata": {},
   "outputs": [],
   "source": [
    "digits = {\n",
    "    '0': 'even',\n",
    "    '1': 'odd',\n",
    "    '2': 'even',\n",
    "}"
   ]
  },
  {
   "cell_type": "code",
   "execution_count": 94,
   "id": "ad8f06cc-96fb-43e1-8b96-11ba12c7d338",
   "metadata": {},
   "outputs": [],
   "source": [
    "digits = {} # empty dictionary"
   ]
  },
  {
   "cell_type": "code",
   "execution_count": 75,
   "id": "1620dbd8-30b4-466a-8038-9b68e1dc8ee3",
   "metadata": {},
   "outputs": [
    {
     "name": "stdout",
     "output_type": "stream",
     "text": [
      "0\n",
      "2\n",
      "4\n",
      "6\n",
      "8\n"
     ]
    }
   ],
   "source": [
    "for num in range(0, 10, 2):\n",
    "    print(num)"
   ]
  },
  {
   "cell_type": "code",
   "execution_count": 95,
   "id": "c1952876-198c-4bff-a388-41b960e5a616",
   "metadata": {},
   "outputs": [],
   "source": [
    "for num in range(0, 10, 2):\n",
    "    digits[num] = 'even'\n",
    "for num in range(1, 10, 2):\n",
    "    digits[num] = 'odd'"
   ]
  },
  {
   "cell_type": "code",
   "execution_count": 96,
   "id": "efa5ea11-9369-4407-8210-ac3a63c8c3f7",
   "metadata": {},
   "outputs": [
    {
     "data": {
      "text/plain": [
       "{0: 'even',\n",
       " 2: 'even',\n",
       " 4: 'even',\n",
       " 6: 'even',\n",
       " 8: 'even',\n",
       " 1: 'odd',\n",
       " 3: 'odd',\n",
       " 5: 'odd',\n",
       " 7: 'odd',\n",
       " 9: 'odd'}"
      ]
     },
     "execution_count": 96,
     "metadata": {},
     "output_type": "execute_result"
    }
   ],
   "source": [
    "digits"
   ]
  },
  {
   "cell_type": "code",
   "execution_count": 100,
   "id": "1662c2b2-a7e4-4918-a782-30a5084d8c5d",
   "metadata": {},
   "outputs": [
    {
     "name": "stdin",
     "output_type": "stream",
     "text": [
      "Enter a number:  516\n"
     ]
    },
    {
     "name": "stdout",
     "output_type": "stream",
     "text": [
      "last digit is 6 and it's a <class 'str'>\n"
     ]
    }
   ],
   "source": [
    "number = input('Enter a number: ')\n",
    "print('last digit is', number[-1], \"and it's a\", type(number[-1]))"
   ]
  },
  {
   "cell_type": "code",
   "execution_count": 103,
   "id": "afba33a4-6c6d-46ee-8cba-7157db4b27db",
   "metadata": {},
   "outputs": [
    {
     "name": "stdout",
     "output_type": "stream",
     "text": [
      "last digit is 6 and it's a <class 'int'>\n"
     ]
    }
   ],
   "source": [
    "last_digit = int(number[-1])\n",
    "print('last digit is', last_digit, \"and it's a\", type(last_digit))"
   ]
  },
  {
   "cell_type": "code",
   "execution_count": 105,
   "id": "602a542e-1d80-428e-92e7-949f740d853c",
   "metadata": {},
   "outputs": [
    {
     "name": "stdout",
     "output_type": "stream",
     "text": [
      "even\n"
     ]
    }
   ],
   "source": [
    "print(digits[last_digit])"
   ]
  },
  {
   "cell_type": "code",
   "execution_count": 106,
   "id": "9f4e1657-184b-4cfd-a063-749518b62d11",
   "metadata": {},
   "outputs": [],
   "source": [
    "digits = {}\n",
    "for num in range(0, 10, 2):\n",
    "    digits[num] = 'even'"
   ]
  },
  {
   "cell_type": "code",
   "execution_count": 107,
   "id": "0986280a-6c02-4d39-b4ab-e732b0e1b5bb",
   "metadata": {},
   "outputs": [
    {
     "data": {
      "text/plain": [
       "{0: 'even', 2: 'even', 4: 'even', 6: 'even', 8: 'even'}"
      ]
     },
     "execution_count": 107,
     "metadata": {},
     "output_type": "execute_result"
    }
   ],
   "source": [
    "digits"
   ]
  },
  {
   "cell_type": "code",
   "execution_count": 108,
   "id": "cb4197e2-f86c-4208-bc66-655e983e682d",
   "metadata": {},
   "outputs": [
    {
     "name": "stdout",
     "output_type": "stream",
     "text": [
      "even\n"
     ]
    }
   ],
   "source": [
    "if 6 in digits:\n",
    "    print('even')\n",
    "else:\n",
    "    print('odd')"
   ]
  },
  {
   "cell_type": "code",
   "execution_count": 114,
   "id": "674a5523-5479-4386-86b1-d7189b265a5f",
   "metadata": {},
   "outputs": [],
   "source": [
    "even_digits = []\n",
    "for num in range(0, 10, 2):\n",
    "    even_digits.append(str(num))"
   ]
  },
  {
   "cell_type": "code",
   "execution_count": 117,
   "id": "23eb5ef8-aa04-4933-9a8f-3abd17fecad6",
   "metadata": {},
   "outputs": [
    {
     "data": {
      "text/plain": [
       "['0', '2', '4', '6', '8']"
      ]
     },
     "execution_count": 117,
     "metadata": {},
     "output_type": "execute_result"
    }
   ],
   "source": [
    "even_digits"
   ]
  },
  {
   "cell_type": "code",
   "execution_count": 111,
   "id": "697c3146-3a08-440c-9658-280dc3894243",
   "metadata": {},
   "outputs": [
    {
     "name": "stdout",
     "output_type": "stream",
     "text": [
      "odd\n"
     ]
    }
   ],
   "source": [
    "# 487\n",
    "if 7 in even_digits:\n",
    "    print('even')\n",
    "else:\n",
    "    print('odd')"
   ]
  },
  {
   "cell_type": "code",
   "execution_count": 119,
   "id": "0e52e991-74cd-48a4-a6b0-6100fafaf88f",
   "metadata": {},
   "outputs": [],
   "source": [
    "num = '487'"
   ]
  },
  {
   "cell_type": "code",
   "execution_count": 120,
   "id": "55967ff7-a7f4-4132-b7eb-99ec25a2f17a",
   "metadata": {},
   "outputs": [
    {
     "data": {
      "text/plain": [
       "'7'"
      ]
     },
     "execution_count": 120,
     "metadata": {},
     "output_type": "execute_result"
    }
   ],
   "source": [
    "num[-1]"
   ]
  },
  {
   "cell_type": "code",
   "execution_count": 121,
   "id": "0b7c0315-0757-4a08-a790-a838a56adcf6",
   "metadata": {},
   "outputs": [
    {
     "data": {
      "text/plain": [
       "False"
      ]
     },
     "execution_count": 121,
     "metadata": {},
     "output_type": "execute_result"
    }
   ],
   "source": [
    "num[-1] in even_digits"
   ]
  },
  {
   "cell_type": "code",
   "execution_count": 136,
   "id": "c02639a9-d7e1-4ff2-a565-fe057d0f1011",
   "metadata": {},
   "outputs": [
    {
     "name": "stdin",
     "output_type": "stream",
     "text": [
      "Enter a number:  dave\n"
     ]
    },
    {
     "name": "stdout",
     "output_type": "stream",
     "text": [
      "not a number\n"
     ]
    }
   ],
   "source": [
    "num = input('Enter a number: ')\n",
    "if num[-1] in '13579':\n",
    "    print('odd')\n",
    "elif num[-1] in '24680':\n",
    "    print('even')\n",
    "else:\n",
    "    print('not a number')"
   ]
  },
  {
   "cell_type": "code",
   "execution_count": 125,
   "id": "01339c50-e56a-496f-9623-5c72172010b8",
   "metadata": {},
   "outputs": [
    {
     "ename": "TypeError",
     "evalue": "argument of type 'int' is not iterable",
     "output_type": "error",
     "traceback": [
      "\u001b[0;31m---------------------------------------------------------------------------\u001b[0m",
      "\u001b[0;31mTypeError\u001b[0m                                 Traceback (most recent call last)",
      "Input \u001b[0;32mIn [125]\u001b[0m, in \u001b[0;36m<cell line: 1>\u001b[0;34m()\u001b[0m\n\u001b[0;32m----> 1\u001b[0m \u001b[38;5;241;43m1\u001b[39;49m\u001b[43m \u001b[49m\u001b[38;5;129;43;01min\u001b[39;49;00m\u001b[43m \u001b[49m\u001b[38;5;241;43m123\u001b[39;49m\n",
      "\u001b[0;31mTypeError\u001b[0m: argument of type 'int' is not iterable"
     ]
    }
   ],
   "source": [
    "1 in 123"
   ]
  },
  {
   "cell_type": "code",
   "execution_count": null,
   "id": "a8916343-5a3b-46ce-a02b-a10e1dda8c39",
   "metadata": {},
   "outputs": [],
   "source": [
    "# Kaprekar Number\n"
   ]
  },
  {
   "cell_type": "code",
   "execution_count": 137,
   "id": "38888d5e-db2a-4453-8d4c-d54493630de0",
   "metadata": {},
   "outputs": [
    {
     "name": "stdin",
     "output_type": "stream",
     "text": [
      "Enter a number:  12344\n"
     ]
    }
   ],
   "source": [
    "num = input('Enter a 4-digit number: ')"
   ]
  },
  {
   "cell_type": "code",
   "execution_count": 138,
   "id": "22b546a9-7cfd-4c14-80cd-175ba404bea9",
   "metadata": {},
   "outputs": [
    {
     "data": {
      "text/plain": [
       "5"
      ]
     },
     "execution_count": 138,
     "metadata": {},
     "output_type": "execute_result"
    }
   ],
   "source": [
    "len(num)"
   ]
  },
  {
   "cell_type": "code",
   "execution_count": 140,
   "id": "40251b75-d4bb-4267-91e9-1ed8199966fd",
   "metadata": {},
   "outputs": [],
   "source": [
    "digits = ['1', '2', '5', '4', '3']"
   ]
  },
  {
   "cell_type": "code",
   "execution_count": 141,
   "id": "1c9052ad-2a24-43b8-a275-cdd01abf8189",
   "metadata": {},
   "outputs": [
    {
     "data": {
      "text/plain": [
       "['1', '2', '3', '4', '5']"
      ]
     },
     "execution_count": 141,
     "metadata": {},
     "output_type": "execute_result"
    }
   ],
   "source": [
    "sorted(digits)"
   ]
  },
  {
   "cell_type": "code",
   "execution_count": 142,
   "id": "36eca89c-f5bb-4845-ac21-67d062205b2a",
   "metadata": {},
   "outputs": [
    {
     "data": {
      "text/plain": [
       "['5', '4', '3', '2', '1']"
      ]
     },
     "execution_count": 142,
     "metadata": {},
     "output_type": "execute_result"
    }
   ],
   "source": [
    "sorted(digits, reverse=True)"
   ]
  },
  {
   "cell_type": "code",
   "execution_count": null,
   "id": "79b83edf-f832-4ca6-8421-38ec52150a12",
   "metadata": {},
   "outputs": [],
   "source": []
  }
 ],
 "metadata": {
  "kernelspec": {
   "display_name": "Python 3 (ipykernel)",
   "language": "python",
   "name": "python3"
  },
  "language_info": {
   "codemirror_mode": {
    "name": "ipython",
    "version": 3
   },
   "file_extension": ".py",
   "mimetype": "text/x-python",
   "name": "python",
   "nbconvert_exporter": "python",
   "pygments_lexer": "ipython3",
   "version": "3.9.12"
  }
 },
 "nbformat": 4,
 "nbformat_minor": 5
}
